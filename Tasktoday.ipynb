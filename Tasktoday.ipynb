{
  "nbformat": 4,
  "nbformat_minor": 0,
  "metadata": {
    "colab": {
      "provenance": [],
      "authorship_tag": "ABX9TyMsgoYWQvTb80mQyemed6Tc",
      "include_colab_link": true
    },
    "kernelspec": {
      "name": "python3",
      "display_name": "Python 3"
    },
    "language_info": {
      "name": "python"
    }
  },
  "cells": [
    {
      "cell_type": "markdown",
      "metadata": {
        "id": "view-in-github",
        "colab_type": "text"
      },
      "source": [
        "<a href=\"https://colab.research.google.com/github/ak2205/pythontraining2024/blob/main/Tasktoday.ipynb\" target=\"_parent\"><img src=\"https://colab.research.google.com/assets/colab-badge.svg\" alt=\"Open In Colab\"/></a>"
      ]
    },
    {
      "cell_type": "code",
      "execution_count": null,
      "metadata": {
        "colab": {
          "base_uri": "https://localhost:8080/"
        },
        "id": "mWBBtAnU7kqX",
        "outputId": "76271088-a322-4bdb-ad93-bbd2fe5afdc6"
      },
      "outputs": [
        {
          "output_type": "stream",
          "name": "stdout",
          "text": [
            "Enter a string: Damien\n",
            "Given string is even Damien\n"
          ]
        }
      ],
      "source": [
        "#if\n",
        "\n",
        "a = input(\"Enter a string: \")\n",
        "b = len(a)\n",
        "if b%2==0:\n",
        "  print(f\"Given string is even {a}\")\n",
        "else:\n",
        "  print(f\"Given string is odd {a}\")"
      ]
    },
    {
      "cell_type": "code",
      "source": [
        "#score\n",
        "\n",
        "aa = float(input(\"Enter a score: \"))\n",
        "if 0<=aa<=100 :\n",
        "  print(f\"It is a valid score {aa}\")\n",
        "  if 0<=aa<51:\n",
        "    print(f\"It is a fail mark {aa}\")\n",
        "  else:\n",
        "    print(f\"It is a pass {aa}\")\n",
        "    if 90<=aa<=100:\n",
        "      print(f\"It is A grade {aa}\")\n",
        "    elif 80<=aa<=90:\n",
        "      print(f\"It is B grade {aa}\")\n",
        "    elif 70<=aa<=80:\n",
        "      print(f\"It is C grade {aa}\")\n",
        "    elif 60<=aa<=70:\n",
        "      print(f\"It is D grade {aa}\")\n",
        "    elif 50<aa<=60:\n",
        "      print(f\"It is E grade {aa}\")\n",
        "    else:\n",
        "      print(f\"It is F grade! {aa}\")\n",
        "else:\n",
        "  print(f\"It is invalid mark {aa}\")"
      ],
      "metadata": {
        "colab": {
          "base_uri": "https://localhost:8080/"
        },
        "id": "RZ3RnqDy8Y6l",
        "outputId": "c2379151-00a0-45ba-982e-9f368d5a4cff"
      },
      "execution_count": null,
      "outputs": [
        {
          "output_type": "stream",
          "name": "stdout",
          "text": [
            "Enter a score: 49.75\n",
            "It is a valid score 49.75\n",
            "It is a fail mark 49.75\n"
          ]
        }
      ]
    },
    {
      "cell_type": "code",
      "source": [
        "ayear = int(input(\"Enter a year: \"))\n",
        "if ayear%100==0:\n",
        "  print(f\"It is a century year {ayear}\")\n",
        "  if ayear%400==0:\n",
        "    print(f\"It is a leap year {ayear}\")\n",
        "  else:\n",
        "    print(f\"It is not a leap year {ayear}\")\n",
        "else:\n",
        "  print(f\"It is not a century year {ayear}\")\n",
        "  if ayear%4==0:\n",
        "    print(f\"It is a leap year {ayear}\")\n",
        "  else:\n",
        "    print(f\"It is not a leap year {ayear}\")"
      ],
      "metadata": {
        "colab": {
          "base_uri": "https://localhost:8080/"
        },
        "id": "dVt6nBAk-4CL",
        "outputId": "de40c1f6-0e00-4a05-f187-622016d4c812"
      },
      "execution_count": null,
      "outputs": [
        {
          "output_type": "stream",
          "name": "stdout",
          "text": [
            "Enter a year: 1800\n",
            "It is a century year 1800\n",
            "It is not a leap year 1800\n"
          ]
        }
      ]
    },
    {
      "cell_type": "code",
      "source": [
        "#Fizz buss\n",
        "#get a number from user. if number is divisible by 3, print fizz\n",
        "#if number is divisible by 5, print buss\n",
        "#if number is divisble by both 3 and 5, print fizz and buss\n",
        "#if not divisible by either or any, then print invalid\n",
        "\n",
        "num = int(input(\"Enter a number: \"))\n",
        "if num%3==0 and num%5==0:\n",
        "  print(\"fizz buss\")\n",
        "elif num%3==0:\n",
        "  print(\"fizz\")\n",
        "elif num%5==0:\n",
        "  print(\"buss\")\n",
        "else:\n",
        "  print(\"invalid\")"
      ],
      "metadata": {
        "colab": {
          "base_uri": "https://localhost:8080/"
        },
        "id": "b1W5KF-yIgTO",
        "outputId": "88c79751-d086-4a83-fef5-3b452aeadd9a"
      },
      "execution_count": null,
      "outputs": [
        {
          "output_type": "stream",
          "name": "stdout",
          "text": [
            "Enter a number: 30\n",
            "fizz buss\n"
          ]
        }
      ]
    }
  ]
}