{
  "nbformat": 4,
  "nbformat_minor": 0,
  "metadata": {
    "colab": {
      "provenance": [],
      "authorship_tag": "ABX9TyMAgbiJiFLbmQ6K/dIgmtpk",
      "include_colab_link": true
    },
    "kernelspec": {
      "name": "python3",
      "display_name": "Python 3"
    },
    "language_info": {
      "name": "python"
    }
  },
  "cells": [
    {
      "cell_type": "markdown",
      "metadata": {
        "id": "view-in-github",
        "colab_type": "text"
      },
      "source": [
        "<a href=\"https://colab.research.google.com/github/ak2205/pythontraining2024/blob/main/PythonPractice.ipynb\" target=\"_parent\"><img src=\"https://colab.research.google.com/assets/colab-badge.svg\" alt=\"Open In Colab\"/></a>"
      ]
    },
    {
      "cell_type": "markdown",
      "source": [
        "Basic integer operation"
      ],
      "metadata": {
        "id": "4W9ZSODRv_6u"
      }
    },
    {
      "cell_type": "code",
      "execution_count": 1,
      "metadata": {
        "colab": {
          "base_uri": "https://localhost:8080/"
        },
        "id": "Rw5R7oBBvltL",
        "outputId": "ec3c17f9-8eeb-4fd2-caa4-21348b112a86"
      },
      "outputs": [
        {
          "output_type": "execute_result",
          "data": {
            "text/plain": [
              "25"
            ]
          },
          "metadata": {},
          "execution_count": 1
        }
      ],
      "source": [
        "10 + 15"
      ]
    },
    {
      "cell_type": "markdown",
      "source": [
        "Variable is a container to store variables. For linear or single use purposes/direct & simple executions, you may not need a variable. But for anything that requires some sort of dependency, it is a given to use variables."
      ],
      "metadata": {
        "id": "yV8Dg_IAwHxK"
      }
    },
    {
      "cell_type": "code",
      "source": [],
      "metadata": {
        "id": "ldlBrqulwf8C"
      },
      "execution_count": null,
      "outputs": []
    }
  ]
}