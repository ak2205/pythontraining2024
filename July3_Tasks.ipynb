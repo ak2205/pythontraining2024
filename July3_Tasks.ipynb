{
  "nbformat": 4,
  "nbformat_minor": 0,
  "metadata": {
    "colab": {
      "provenance": [],
      "authorship_tag": "ABX9TyOOD3X8M7X75bq0Hmc/qqpQ",
      "include_colab_link": true
    },
    "kernelspec": {
      "name": "python3",
      "display_name": "Python 3"
    },
    "language_info": {
      "name": "python"
    }
  },
  "cells": [
    {
      "cell_type": "markdown",
      "metadata": {
        "id": "view-in-github",
        "colab_type": "text"
      },
      "source": [
        "<a href=\"https://colab.research.google.com/github/ak2205/pythontraining2024/blob/main/July3_Tasks.ipynb\" target=\"_parent\"><img src=\"https://colab.research.google.com/assets/colab-badge.svg\" alt=\"Open In Colab\"/></a>"
      ]
    },
    {
      "cell_type": "markdown",
      "source": [
        "# **July 3 Tasks**"
      ],
      "metadata": {
        "id": "I5rw8pH6J5pv"
      }
    },
    {
      "cell_type": "markdown",
      "source": [
        "**Task 1 - List Slicing**"
      ],
      "metadata": {
        "id": "sKYdDwtdKE3t"
      }
    },
    {
      "cell_type": "code",
      "source": [
        "Li1 = [2,3,4,5,[45,56,67,78,[111,222,333,[5555,3333,[10000,50000,\"python\",\"computer\"],1111,7777,8888],444,555,666,777],89,23,34]]\n",
        "\n",
        "print(len(Li1))\n",
        "print(Li1[3])\n",
        "print(Li1[4][1])\n",
        "print(Li1[4][4][1])\n",
        "print(Li1[4][4][3][2][1])\n",
        "print(Li1[4][4][3][2][3][3:6])\n",
        "print(Li1[4][4][3][0])\n",
        "print(Li1[4][4][3][4])\n",
        "print(Li1[4][4][6])\n",
        "print(Li1[4][5])\n",
        "print(Li1[4][4][3][2][2][4:])\n",
        "print(Li1[4][4][2])\n",
        "print(Li1[4][4][3][1])"
      ],
      "metadata": {
        "colab": {
          "base_uri": "https://localhost:8080/"
        },
        "id": "Qpmzt9InJ-95",
        "outputId": "8ec9402a-d3a3-4291-aedd-531fa99da21f"
      },
      "execution_count": 42,
      "outputs": [
        {
          "output_type": "stream",
          "name": "stdout",
          "text": [
            "5\n",
            "5\n",
            "56\n",
            "222\n",
            "50000\n",
            "put\n",
            "5555\n",
            "7777\n",
            "666\n",
            "89\n",
            "on\n",
            "333\n",
            "3333\n"
          ]
        }
      ]
    },
    {
      "cell_type": "markdown",
      "source": [
        "**Task 2 - Extract - #science & #computer**"
      ],
      "metadata": {
        "id": "N1oX3vU5TJ1u"
      }
    },
    {
      "cell_type": "code",
      "source": [
        "a = [1,2,3,4,[100,101,102,\"Computer_science\"],200,203]\n",
        "\n",
        "print(a[4][3][-7:])\n",
        "print(a[4][3][:8])\n"
      ],
      "metadata": {
        "colab": {
          "base_uri": "https://localhost:8080/"
        },
        "id": "5tjzRn0XTQJv",
        "outputId": "744fd2cc-880b-4c45-eb1d-48fe8c09ed1e"
      },
      "execution_count": 47,
      "outputs": [
        {
          "output_type": "stream",
          "name": "stdout",
          "text": [
            "science\n",
            "Computer\n"
          ]
        }
      ]
    },
    {
      "cell_type": "markdown",
      "source": [
        "**Task 3 - Extract #666 #201 #102 #999 #777**"
      ],
      "metadata": {
        "id": "3hibdpKYT5pt"
      }
    },
    {
      "cell_type": "code",
      "source": [
        "a = [1,2,3,4,[101,102,103,[201,202,[999]], 666, 777]]\n",
        "\n",
        "print(a[4][4])\n",
        "print(a[4][3][0])\n",
        "print(a[4][1])\n",
        "print(a[4][3][2][0])\n",
        "print(a[4][5])"
      ],
      "metadata": {
        "colab": {
          "base_uri": "https://localhost:8080/"
        },
        "id": "62s232aGUDo3",
        "outputId": "e4a215f0-7b5c-433e-be0f-a38ef8a374ec"
      },
      "execution_count": 56,
      "outputs": [
        {
          "output_type": "stream",
          "name": "stdout",
          "text": [
            "666\n",
            "201\n",
            "102\n",
            "999\n",
            "777\n"
          ]
        }
      ]
    },
    {
      "cell_type": "markdown",
      "source": [
        "**Task 4 - Extract #ll #thon**"
      ],
      "metadata": {
        "id": "Y9jGCO0VUv-n"
      }
    },
    {
      "cell_type": "code",
      "source": [
        "Li1 = [2,3,\"python\",\"hello\",4,5,0]\n",
        "\n",
        "print(Li1[3][2:4])\n",
        "print(Li1[2][2:])"
      ],
      "metadata": {
        "colab": {
          "base_uri": "https://localhost:8080/"
        },
        "id": "Ty_GST8KU11a",
        "outputId": "7cfa8224-a5e0-4fb7-e1ce-600f3a86c6ce"
      },
      "execution_count": 59,
      "outputs": [
        {
          "output_type": "stream",
          "name": "stdout",
          "text": [
            "ll\n",
            "thon\n"
          ]
        }
      ]
    },
    {
      "cell_type": "markdown",
      "source": [
        "**Task 5 - Output Prediction:**\n",
        "\n",
        "Li1 = [1,2,3,4,5,[11,22,33,44,55,[111,222,333,444],6666,7777],7777]\n",
        "\n",
        "1.   print(Li1[5][0]) #My prediction - 11\n",
        "2.   print(Li1[5][6]) #My prediction - 6666\n",
        "3.   print(Li1[5][-2]) #My prediction - 6666\n",
        "4.   print(Li1[5][7]) #My prediction - 7777\n",
        "5.   print(Li1[6]) #My prediction - 7777\n",
        "6.   print(Li1[5][5][1]) #My predicition - 222\n",
        "7.   print(Li1[-2][-1]) #My prediciton - 7777\n",
        "8.   print(Li1[-2][2:4]) #My prediciton - 33, 44"
      ],
      "metadata": {
        "id": "D2jQGtuRVKDm"
      }
    },
    {
      "cell_type": "markdown",
      "source": [
        "**Task 6 - #py #ello #en #zoo #Bot**"
      ],
      "metadata": {
        "id": "EudQeHpUXx8W"
      }
    },
    {
      "cell_type": "code",
      "source": [
        "a = {1: [1,2,3,\"python\"], 2:{10:\"hello\",20:\"welcome\",40: \"science\"}, 99: {3,4,5,6}, 40:{1:\"zoology\", 2:\"Botany\"}}\n",
        "\n",
        "print(a[1][3][0:2])\n",
        "print(a[2][10][1:4])\n",
        "print(a[2][40][3:5])\n",
        "print(a[40][1][0:3])\n",
        "print(a[40][2][0:3])"
      ],
      "metadata": {
        "colab": {
          "base_uri": "https://localhost:8080/"
        },
        "id": "0Hg8hvwfX_y9",
        "outputId": "f51a7155-8bbd-492c-e880-b67d996d05d6"
      },
      "execution_count": 68,
      "outputs": [
        {
          "output_type": "stream",
          "name": "stdout",
          "text": [
            "py\n",
            "ell\n",
            "en\n",
            "zoo\n",
            "Bot\n"
          ]
        }
      ]
    },
    {
      "cell_type": "markdown",
      "source": [
        "**Task 7 - Covert below two lists in to a dictionary**"
      ],
      "metadata": {
        "id": "bz5toYZCYuG4"
      }
    },
    {
      "cell_type": "code",
      "source": [
        "a = [1,2,3,4,5]\n",
        "b = [\"python\",\"cpp\",\"c\",\"java\",\"php\"]\n",
        "\n",
        "c = dict(zip(a,b))\n",
        "print(c)"
      ],
      "metadata": {
        "colab": {
          "base_uri": "https://localhost:8080/"
        },
        "id": "rXliD89lY3LI",
        "outputId": "fc7e1561-bffd-441f-f86f-2e4744b32310"
      },
      "execution_count": 75,
      "outputs": [
        {
          "output_type": "stream",
          "name": "stdout",
          "text": [
            "{1: 'python', 2: 'cpp', 3: 'c', 4: 'java', 5: 'php'}\n"
          ]
        }
      ]
    },
    {
      "cell_type": "markdown",
      "source": [
        "**Task 8 - Convert below set in to a list**"
      ],
      "metadata": {
        "id": "Ez3ACOQLa5np"
      }
    },
    {
      "cell_type": "code",
      "source": [
        "a_set = {5,4,3,6,2,7,1}\n",
        "print(list(a_set))"
      ],
      "metadata": {
        "colab": {
          "base_uri": "https://localhost:8080/"
        },
        "id": "FrMuqC9NbCL1",
        "outputId": "8fcc5ba2-9580-46b9-a280-3aa6c42abba5"
      },
      "execution_count": 77,
      "outputs": [
        {
          "output_type": "stream",
          "name": "stdout",
          "text": [
            "[1, 2, 3, 4, 5, 6, 7]\n"
          ]
        }
      ]
    },
    {
      "cell_type": "markdown",
      "source": [
        "**Task 9 - Remove duplicates from below list**"
      ],
      "metadata": {
        "id": "NpKO8fRNcTqp"
      }
    },
    {
      "cell_type": "code",
      "source": [
        "a = [5,4,3,6,2,7,1,2,3,4,1,2,3,4,5,6,5]\n",
        "b = set(a)\n",
        "c = list(b)\n",
        "print(c)"
      ],
      "metadata": {
        "colab": {
          "base_uri": "https://localhost:8080/"
        },
        "id": "d7gx6hgBcbvC",
        "outputId": "8f29795b-7255-4ab7-8a2e-ba4e0282a485"
      },
      "execution_count": 80,
      "outputs": [
        {
          "output_type": "stream",
          "name": "stdout",
          "text": [
            "[1, 2, 3, 4, 5, 6, 7]\n"
          ]
        }
      ]
    },
    {
      "cell_type": "markdown",
      "source": [
        "**Task 10 - Convert below one to tuple**"
      ],
      "metadata": {
        "id": "Xi1qJfMCcuve"
      }
    },
    {
      "cell_type": "code",
      "source": [
        "ar = [5,4,3,6,2,7,1,2,3,4,1,2,3,4,5,6,5]\n",
        "print(tuple(ar))"
      ],
      "metadata": {
        "colab": {
          "base_uri": "https://localhost:8080/"
        },
        "id": "qSwcZoelczk-",
        "outputId": "a38c758b-c88a-4188-f6ae-405e513053cd"
      },
      "execution_count": 81,
      "outputs": [
        {
          "output_type": "stream",
          "name": "stdout",
          "text": [
            "(5, 4, 3, 6, 2, 7, 1, 2, 3, 4, 1, 2, 3, 4, 5, 6, 5)\n"
          ]
        }
      ]
    }
  ]
}