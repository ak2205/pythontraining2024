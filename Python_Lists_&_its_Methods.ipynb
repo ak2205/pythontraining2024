{
  "nbformat": 4,
  "nbformat_minor": 0,
  "metadata": {
    "colab": {
      "provenance": [],
      "collapsed_sections": [
        "reZsUp85q6rD"
      ],
      "toc_visible": true,
      "authorship_tag": "ABX9TyO8DuIuSCKxx5xAskvW92LJ",
      "include_colab_link": true
    },
    "kernelspec": {
      "name": "python3",
      "display_name": "Python 3"
    },
    "language_info": {
      "name": "python"
    }
  },
  "cells": [
    {
      "cell_type": "markdown",
      "metadata": {
        "id": "view-in-github",
        "colab_type": "text"
      },
      "source": [
        "<a href=\"https://colab.research.google.com/github/ak2205/pythontraining2024/blob/main/Python_Lists_%26_its_Methods.ipynb\" target=\"_parent\"><img src=\"https://colab.research.google.com/assets/colab-badge.svg\" alt=\"Open In Colab\"/></a>"
      ]
    },
    {
      "cell_type": "markdown",
      "metadata": {
        "id": "reZsUp85q6rD"
      },
      "source": [
        "# **Python Lists:**\n",
        "\n",
        "These are essentially one of the four kinds of data structure to store data for efficient identification. They are capable of storing multiple items in a single variable.\n",
        "\n",
        "**Lists are to be created using square brackets.**\n",
        "\n",
        "list_sample = ['a', 'a', {\"mars\", \"earth\"},('cricket', \"football\"), {\"batsman\": 'MS Dhoni'; \"Bowler\" : \"Umesh\"}, 12345, 47.50, 87+3j, [\"apple\", 'orange'], \"@#$%^\"]\n",
        "\n",
        "A list can contain every possible kind of data types known to python.\n",
        "\n",
        "List are usually **ordered** and any new inclusions are usually succeeded post their predecessors. Although, there are certain cases where Lists order can be subject to change.\n",
        "Lists are allowed to have **duplicates** as well.\n",
        "\n",
        "len() can be used to determine length of list.\n",
        "\n",
        "you can also use list() constructor to make a list:\n",
        "\n",
        "sampleList = list((\"apple\", \"banana\", \"cherry\"))\n",
        "print(sampleList)\n",
        "\n",
        "\n"
      ]
    },
    {
      "cell_type": "code",
      "execution_count": null,
      "metadata": {
        "colab": {
          "base_uri": "https://localhost:8080/"
        },
        "id": "QWOrmqEf3F-z",
        "outputId": "28992e74-c446-4478-87e8-d50ea22d0cf8"
      },
      "outputs": [
        {
          "output_type": "stream",
          "name": "stdout",
          "text": [
            "['a', 'a', {'earth', 'mars'}, ('cricket', 'football'), {'batsman': 'MS Dhoni', 'Bowler': 'Umesh'}, 12345, 47.5, (87+3j), ['apple', 'orange'], '@#$%^']\n",
            "['apple', 'banana', 'orange']\n"
          ]
        }
      ],
      "source": [
        "list_sample = ['a', 'a', {\"mars\", \"earth\"}, ('cricket', \"football\"), {\"batsman\": 'MS Dhoni', \"Bowler\" : \"Umesh\"}, 12345, 47.50, 87+3j, [\"apple\", 'orange'], \"@#$%^\"]\n",
        "print(list_sample)\n",
        "\n",
        "sampleList = list((\"apple\", \"banana\", \"orange\"))\n",
        "print(sampleList)"
      ]
    },
    {
      "cell_type": "markdown",
      "metadata": {
        "id": "rVhUxPtN807l"
      },
      "source": [
        "# **List indexing/modification**\n",
        "\n",
        "List items are indexed and can be accessed by their indexing positions.\n",
        "\n",
        "List can contain positive or negative index and are certainly retrievable based on a range of indexes.\n"
      ]
    },
    {
      "cell_type": "code",
      "execution_count": null,
      "metadata": {
        "colab": {
          "base_uri": "https://localhost:8080/"
        },
        "id": "oTqqT6pN9rsg",
        "outputId": "3e82deb6-675f-48a4-f318-db869549871e"
      },
      "outputs": [
        {
          "name": "stdout",
          "output_type": "stream",
          "text": [
            "banana\n",
            "orange\n",
            "['cherry', 'orange', 'kiwi']\n",
            "['apple', 'banana', 'cherry', 'orange']\n",
            "['cherry', 'orange', 'kiwi', 'melon', 'mango']\n",
            "['orange', 'kiwi', 'melon']\n",
            "Yes, 'apple' is in the fruits list\n"
          ]
        }
      ],
      "source": [
        "thislist = [\"apple\", \"banana\", \"cherry\"]\n",
        "print(thislist[1])\n",
        "\n",
        "onelist = [\"apple\", \"banana\", \"orange\"]\n",
        "print(onelist[-1])\n",
        "\n",
        "daslist = [\"apple\", \"banana\", \"cherry\", \"orange\", \"kiwi\", \"melon\", \"mango\"]\n",
        "print(daslist[2:5])\n",
        "\n",
        "dielist = [\"apple\", \"banana\", \"cherry\", \"orange\", \"kiwi\", \"melon\", \"mango\"]\n",
        "print(dielist[:4])\n",
        "\n",
        "derlist = [\"apple\", \"banana\", \"cherry\", \"orange\", \"kiwi\", \"melon\", \"mango\"]\n",
        "print(derlist[2:])\n",
        "\n",
        "dulist = [\"apple\", \"banana\", \"cherry\", \"orange\", \"kiwi\", \"melon\", \"mango\"]\n",
        "print(dulist[-4:-1])\n",
        "\n",
        "sielist = [\"apple\", \"strawberry\", \"grapes\"]\n",
        "if \"apple\" in sielist:\n",
        "  print(\"Yes, 'apple' is in the fruits list\")"
      ]
    },
    {
      "cell_type": "markdown",
      "metadata": {
        "id": "Rzm46ymvFBuK"
      },
      "source": [
        "# **Modifying List Items**\n",
        "\n",
        "Now we use indexes to perform operations like append, remove, merge, etc.,"
      ]
    },
    {
      "cell_type": "markdown",
      "metadata": {
        "id": "SObnR2kPFxSu"
      },
      "source": [
        "**Change Item Value**\n",
        "\n",
        "Change the second item"
      ]
    },
    {
      "cell_type": "code",
      "execution_count": null,
      "metadata": {
        "colab": {
          "base_uri": "https://localhost:8080/"
        },
        "id": "yYC1_O9HFOgZ",
        "outputId": "fbaf2950-0c33-4743-dbb7-1791fedfb642"
      },
      "outputs": [
        {
          "name": "stdout",
          "output_type": "stream",
          "text": [
            "['apple', 'blackcurrant', 'cherry']\n"
          ]
        }
      ],
      "source": [
        "Mylist = [\"apple\", \"banana\", \"cherry\"]\n",
        "Mylist[1] = \"blackcurrant\"\n",
        "print(Mylist)"
      ]
    },
    {
      "cell_type": "markdown",
      "metadata": {
        "id": "IERlKjVVFzCh"
      },
      "source": [
        "**Change a Range of Item Values**\n",
        "\n",
        "Change the values \"banana\" and \"cherry\" with the values \"blackcurrant\" and \"watermelon\""
      ]
    },
    {
      "cell_type": "code",
      "execution_count": null,
      "metadata": {
        "colab": {
          "base_uri": "https://localhost:8080/"
        },
        "id": "b9IHY_j2Fcbq",
        "outputId": "e77a0ae8-f814-4db4-e440-02b66e0b7156"
      },
      "outputs": [
        {
          "name": "stdout",
          "output_type": "stream",
          "text": [
            "['apple', 'blackcurrant', 'watermelon', 'orange', 'kiwi', 'mango']\n"
          ]
        }
      ],
      "source": [
        "Sindlist = [\"apple\", \"banana\", \"cherry\", \"orange\", \"kiwi\", \"mango\"]\n",
        "Sindlist[1:3] = [\"blackcurrant\", \"watermelon\"]\n",
        "print(Sindlist)"
      ]
    },
    {
      "cell_type": "markdown",
      "metadata": {
        "id": "tQFagCZ2GUi8"
      },
      "source": [
        "Change the second value by replacing it with two new values\n",
        "\n"
      ]
    },
    {
      "cell_type": "code",
      "execution_count": null,
      "metadata": {
        "colab": {
          "base_uri": "https://localhost:8080/"
        },
        "id": "dC0_YqmdFrD2",
        "outputId": "a0444f41-1502-4e2a-8bd9-9b36f3718d1a"
      },
      "outputs": [
        {
          "name": "stdout",
          "output_type": "stream",
          "text": [
            "['apple', 'blackcurrant', 'watermelon', 'cherry']\n"
          ]
        }
      ],
      "source": [
        "thislist = [\"apple\", \"banana\", \"cherry\"]\n",
        "thislist[1:2] = [\"blackcurrant\", \"watermelon\"]\n",
        "print(thislist)"
      ]
    },
    {
      "cell_type": "markdown",
      "metadata": {
        "id": "gORgpSWAGnac"
      },
      "source": [
        "If you insert less items than you replace, the new items will be inserted where you specified, and the remaining items will move accordingly:"
      ]
    },
    {
      "cell_type": "code",
      "execution_count": null,
      "metadata": {
        "colab": {
          "base_uri": "https://localhost:8080/"
        },
        "id": "TBpG7_KvGqd2",
        "outputId": "b16de6d6-2938-4b5d-d363-98b90d2559ac"
      },
      "outputs": [
        {
          "name": "stdout",
          "output_type": "stream",
          "text": [
            "['apple', 'watermelon']\n"
          ]
        }
      ],
      "source": [
        "thislist = [\"apple\", \"banana\", \"cherry\"]\n",
        "thislist[1:3] = [\"watermelon\"]\n",
        "print(thislist)"
      ]
    },
    {
      "cell_type": "markdown",
      "metadata": {
        "id": "00c6s1TOG2oD"
      },
      "source": [
        "# **List Methods**\n",
        "\n",
        "1. append() - Able to add an item to List (at last usually)\n",
        "2. insert() - Able to insert an item in a list with indexing\n",
        "3. extend() - Extend existing list with list/tuple/set/dictionary\n",
        "4. remove() - Able to remove by mentioning specific item in list.\n",
        "5. pop() - To remove element by its specific index.\n",
        "6. del - del List[index] or del List. It deletes the list.\n",
        "7. clear() - List.clear() - removes all items of a list.\n",
        "8. sort() - Sorts the list ascending by default.\n",
        "syntax -> list.sort(reverse=True|False, key=myFunc)\n",
        "9. copy() - returns copy of a list.\n",
        "10. count() - can contain item or index, counts the occurrences of an item in list.\n",
        "11. reverse() - reverses the order of a list.\n",
        "12. index() - returns the position of a list.\n",
        "\n",
        "\n",
        "\n"
      ]
    },
    {
      "cell_type": "code",
      "execution_count": null,
      "metadata": {
        "colab": {
          "base_uri": "https://localhost:8080/"
        },
        "id": "RQ73qNUXIgWN",
        "outputId": "75b95619-2e55-4bfb-ccd1-e1f5d622a9d1"
      },
      "outputs": [
        {
          "name": "stdout",
          "output_type": "stream",
          "text": [
            "['Guindy', 'Trichy', 'Salem', 'Coimbatore']\n"
          ]
        }
      ],
      "source": [
        "#List method - append() - to add an extra item, usually at end of list\n",
        "\n",
        "AkileshList = [\"Guindy\", \"Trichy\", \"Salem\"]\n",
        "AkileshList.append(\"Coimbatore\")\n",
        "print(AkileshList)"
      ]
    },
    {
      "cell_type": "code",
      "execution_count": null,
      "metadata": {
        "colab": {
          "base_uri": "https://localhost:8080/"
        },
        "id": "rcYO4sPgIx4r",
        "outputId": "fafb5518-2c61-4338-93c3-1286590b4dd1"
      },
      "outputs": [
        {
          "name": "stdout",
          "output_type": "stream",
          "text": [
            "[2007, 'Clarke', 'Watson', 'Hayden']\n"
          ]
        }
      ],
      "source": [
        "#List Method - insert() - to insert with indexing and item as arguments\n",
        "\n",
        "PontingList = [\"Clarke\", \"Watson\", \"Hayden\"]\n",
        "PontingList.insert(0, 2007)\n",
        "print(PontingList)"
      ]
    },
    {
      "cell_type": "code",
      "execution_count": null,
      "metadata": {
        "colab": {
          "base_uri": "https://localhost:8080/"
        },
        "id": "I4mw9VYnJb8Y",
        "outputId": "04fa5c9c-55da-437d-de36-51d2443506f4"
      },
      "outputs": [
        {
          "name": "stdout",
          "output_type": "stream",
          "text": [
            "['Kohli', 25, 'Gayle', 45, 'Hope', 44, 'Shaw', 10]\n"
          ]
        }
      ],
      "source": [
        "#List method - extend() - to extend by iterating another list\n",
        "\n",
        "ViratList = [\"Kohli\", 25, \"Gayle\", 45]\n",
        "RishabhList = [\"Hope\", 44, \"Shaw\", 10]\n",
        "ViratList.extend(RishabhList)\n",
        "print(ViratList)"
      ]
    },
    {
      "cell_type": "code",
      "execution_count": null,
      "metadata": {
        "colab": {
          "base_uri": "https://localhost:8080/"
        },
        "id": "PAKY8RWfTDVc",
        "outputId": "cddf6fb3-f92e-428e-b8f2-c83dcc6765d7"
      },
      "outputs": [
        {
          "name": "stdout",
          "output_type": "stream",
          "text": [
            "['Guptill', 'Taylor', 'Elliott']\n"
          ]
        }
      ],
      "source": [
        "#List method - remove() - to remove by mentioning list item\n",
        "\n",
        "KaneList = [\"Guptill\", \"Allen\", \"Taylor\", \"Elliott\"]\n",
        "KaneList.remove(\"Allen\")\n",
        "print(KaneList)"
      ]
    },
    {
      "cell_type": "code",
      "execution_count": null,
      "metadata": {
        "colab": {
          "base_uri": "https://localhost:8080/"
        },
        "id": "l-hS_uTmUJ8P",
        "outputId": "acfd6b60-f52b-42e9-939c-92aa7969e7d0"
      },
      "outputs": [
        {
          "name": "stdout",
          "output_type": "stream",
          "text": [
            "['Guptill', 'Elliott']\n"
          ]
        }
      ],
      "source": [
        "#List method - pop()\n",
        "\n",
        "KaneList.pop(1)\n",
        "print(KaneList)"
      ]
    },
    {
      "cell_type": "code",
      "execution_count": null,
      "metadata": {
        "colab": {
          "base_uri": "https://localhost:8080/"
        },
        "id": "m_XaYNGNV-va",
        "outputId": "cec8f40d-06cf-42a3-9539-9030ec14aa25"
      },
      "outputs": [
        {
          "name": "stdout",
          "output_type": "stream",
          "text": [
            "['apache', 'spark', 'hadoop', 'firebase']\n"
          ]
        }
      ],
      "source": [
        "maven = [\"apache\", \"spark\", \"hadoop\", \"firebase\", \"lydia\"]\n",
        "del maven[4]\n",
        "print(maven)"
      ]
    },
    {
      "cell_type": "code",
      "execution_count": null,
      "metadata": {
        "colab": {
          "base_uri": "https://localhost:8080/",
          "height": 211
        },
        "id": "XFHmJEu7UXt6",
        "outputId": "66b28f80-4f5a-43c5-ceab-326824605f6e"
      },
      "outputs": [
        {
          "name": "stdout",
          "output_type": "stream",
          "text": [
            "['Kohli', 25, 'Gayle', 45, 'Hope', 44, 'Shaw', 10] ['Guptill', 'Elliott']\n",
            "['Kohli', 25, 'Gayle', 45, 'Hope', 44, 'Shaw', 10]\n"
          ]
        },
        {
          "ename": "NameError",
          "evalue": "name 'KaneList' is not defined",
          "output_type": "error",
          "traceback": [
            "\u001b[0;31m---------------------------------------------------------------------------\u001b[0m",
            "\u001b[0;31mNameError\u001b[0m                                 Traceback (most recent call last)",
            "\u001b[0;32m<ipython-input-27-f6e9fc9a0c32>\u001b[0m in \u001b[0;36m<cell line: 6>\u001b[0;34m()\u001b[0m\n\u001b[1;32m      4\u001b[0m \u001b[0;32mdel\u001b[0m \u001b[0mKaneList\u001b[0m\u001b[0;34m\u001b[0m\u001b[0;34m\u001b[0m\u001b[0m\n\u001b[1;32m      5\u001b[0m \u001b[0mprint\u001b[0m\u001b[0;34m(\u001b[0m\u001b[0mViratList\u001b[0m\u001b[0;34m)\u001b[0m\u001b[0;34m\u001b[0m\u001b[0;34m\u001b[0m\u001b[0m\n\u001b[0;32m----> 6\u001b[0;31m \u001b[0mprint\u001b[0m\u001b[0;34m(\u001b[0m\u001b[0mKaneList\u001b[0m\u001b[0;34m)\u001b[0m\u001b[0;34m\u001b[0m\u001b[0;34m\u001b[0m\u001b[0m\n\u001b[0m",
            "\u001b[0;31mNameError\u001b[0m: name 'KaneList' is not defined"
          ]
        }
      ],
      "source": [
        "# del List method - deletes the list\n",
        "\n",
        "print(ViratList, KaneList)\n",
        "del KaneList\n",
        "print(ViratList)\n",
        "print(KaneList)\n"
      ]
    },
    {
      "cell_type": "code",
      "execution_count": null,
      "metadata": {
        "colab": {
          "background_save": true,
          "base_uri": "https://localhost:8080/"
        },
        "id": "0AZMYo12VK6R",
        "outputId": "8e68b0e3-a90d-459d-a253-2a3111c5e88b"
      },
      "outputs": [
        {
          "name": "stdout",
          "output_type": "stream",
          "text": [
            "[]\n"
          ]
        }
      ],
      "source": [
        "#Clear() list method\n",
        "\n",
        "ViratList.clear()\n",
        "print(ViratList)"
      ]
    }
  ]
}