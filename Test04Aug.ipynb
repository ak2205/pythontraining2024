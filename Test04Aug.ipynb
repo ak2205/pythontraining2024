{
 "cells": [
  {
   "cell_type": "markdown",
   "id": "372f8a27-50cf-4633-962a-57d871c78fc9",
   "metadata": {},
   "source": [
    "### To get resume from user (as text file or word) (you can use your resume)"
   ]
  },
  {
   "cell_type": "code",
   "execution_count": 1,
   "id": "dce52ff6-e95d-4790-ab68-ed18e0c37e03",
   "metadata": {},
   "outputs": [],
   "source": [
    "import os\n",
    "import re\n",
    "import docx\n",
    "from pypdf import PdfReader\n",
    "from datetime import datetime\n",
    "import smtplib\n",
    "from email.mime.text import MIMEText\n",
    "from email.mime.multipart import MIMEMultipart\n",
    "import getpass"
   ]
  },
  {
   "cell_type": "markdown",
   "id": "6a7b34e4-e400-4bd7-8ba6-6d2d6b80b0a0",
   "metadata": {},
   "source": [
    "#### Code for reading word file"
   ]
  },
  {
   "cell_type": "code",
   "execution_count": 29,
   "id": "5fdd30dc-6da6-4ce2-b6e9-ace8f2bb8867",
   "metadata": {},
   "outputs": [
    {
     "name": "stdin",
     "output_type": "stream",
     "text": [
      "Enter file path of word doc correctly, without quotations:  C:\\Users\\Akileshwaran\\Desktop\\Akileshwaran Srinivasan - Resume - copy.docx\n"
     ]
    },
    {
     "name": "stdout",
     "output_type": "stream",
     "text": [
      "  \n",
      " Akileshwaran Srinivasan\n",
      " E-mail ID: akileshwaran.s@tcs.com\n",
      " Mob: +91 75502 37225\n",
      "Profile:\n",
      "An individual with a focus on self-improvement and enhancing business and technical acumen. I emphasize on teamwork and to instil clarity of thought. I rely on enabling constant communication and feedback. I attribute my technical experience in roles, within the Microsoft Power Platform. I have experience in client-facing roles, maintaining periodic interaction and support. Looking forward to opportunities providing holistic growth.\n",
      "Work Experience:\n",
      "I owe almost two years of experience in IT industry with Tata Consultancy Services.\n",
      "Acquired training on MS-Power Platform fundamentals and certification in PL-900, I worked as a Power Apps Developer.\n",
      "Succeeding that, worked as a Power Platform Admin, overlooking admin responsibilities and support activities, leveraging the CoE toolkit.\n",
      "Meanwhile, as a value addition to TCS, I imparted my know-hows on aforementioned tools to a fellow peer, helping to upskill in a month’s time.\n",
      "Recently, I worked as a Power Automate Developer in an intra-tool migration by contributing towards the development of bots and flows to generate reports, around the past 3 months. \n",
      "Skills:\n",
      "Technical:\n",
      "MS-Power Platform (Power Apps, Dataverse, Power Automate, Admin & CoE).\n",
      "Basic understanding of Azure ADO Board, SharePoint & ServiceNow.\n",
      "Auxiliary: \n",
      "Communication, Presentation, Teamwork & Leadership.\n",
      "Certifications:\n",
      "AZ-900 – Microsoft Azure Fundamentals.\n",
      "PL-900 – Microsoft Power Platform Fundamentals.\n",
      "PL-400 – Power Platform Developer Associate.\n",
      "\n",
      "Projects:\n",
      "Power Apps Development for an internal resource management app:\n",
      "Worked as a Power Apps developer, for a leading Oil & Gas agency in the UK, in development activities towards building a cross-platform, intra-company resource management application.\n",
      "Stories and tasks were handled out for respective sprints and were diligently performed, leveraging Azure ADO Board.\n",
      "Power Apps Studio was used for developing the core and Microsoft Dataverse was used for all-data related operations.\n",
      "Power Automate cloud flows were developed for maintaining triggers to perform automated actions during candidate’s processing stages.\n",
      "I also participated and contributed to manual testing and occasional admin activities for providing overall stability to the application.\n",
      "Org. wide admin, governance and support services :\n",
      "Worked as a Power Platform Administrator for a leading travel agency in Australia and provided support via governance activities, leveraging the Power Platform Centre of Excellence (CoE toolkit).\n",
      "As an admin, I overlooked organization-wide activities in Power Platform resources, ranging from development, testing, archival etc., utilizing the Admin Center. \n",
      "I also analysed major cloud flows and categorized them in an easily identifiable templates for the stakeholder to readily use one of those templates according to their requirements.\n",
      "As part of governance, I utilized the CoE dashboard (hosted on Power BI), to monitor and analyse all resource-related specifications and activities. \n",
      "As a part of support, based on the aforementioned, I periodically exported data and derived insights, thereby composing reports that recommend certain fixes to the identified shortcomings and scope of improvements.\n",
      "Utilized ServiceNow to handle relevant tickets of callers, and promptly responded to them.\n",
      "Aforementioned efforts mostly involved myself in periodical, direct interactions with the customer stakeholders, giving me a new horizon to expand my soft skills and relevant acumen.\n",
      "Power Automate Developer for migration of processes from BluePrism:\n",
      "I had the opportunity to work as a Power Automate Developer, for a leading conglomerate in cooperative services in the UK, and developed bots for certain process involving an intra-migration of automation tools (BluePrism to Power Automate). \n",
      "I utilized BluePrism to analyse the existing bots, deriving key insights in their overall design structures and understanding the process behind numerous work queues that power these bot flows.\n",
      "Contributed to the development of desktop flows, leveraging the Power Automate Desktop (PAD) and subsequently developed work queues, in Power Automate Web.\n",
      "Developed instant cloud flows using Power Automate to generate performance reports for a number of such bots.\n",
      "Contributed to the team integrity and efficiency by assisting peers with technical aspects and raising tickets and in setting up virtual workspaces. Provided contributions in handful of other tool and goal-related analysis and composed relevant documentation, backing such metrics.\n"
     ]
    }
   ],
   "source": [
    "doc = docx.Document(input(\"Enter file path of word doc correctly, without quotations: \"))\n",
    "for para in doc.paragraphs:\n",
    "    print(para.text)"
   ]
  },
  {
   "cell_type": "markdown",
   "id": "bea13052-7f24-4c5b-b2cd-9b4b5f879ab0",
   "metadata": {},
   "source": [
    "#### Code for reading PDF file"
   ]
  },
  {
   "cell_type": "code",
   "execution_count": 26,
   "id": "92a82076-3f52-4ab0-9962-e6994cd6931f",
   "metadata": {},
   "outputs": [
    {
     "name": "stdin",
     "output_type": "stream",
     "text": [
      "Enter PDF File pathe C:\\Users\\Akileshwaran\\Downloads\\Resume Akileshwaran Srinivasan.pdf\n"
     ]
    },
    {
     "name": "stdout",
     "output_type": "stream",
     "text": [
      "Resume Akileshwaran Srinivasan\n",
      "MS Power Platform Developer\n",
      "Personal details\n",
      "Name Akileshwaran Srinivasan\n",
      "Email address akileshwaran .s@tcs.com\n",
      "Phone number +91 75502 37225\n",
      "Address Chennai , Tamil Nadu , India\n",
      "Profile\n",
      "A motivated individual with aspirations to improvise periodically for making coherent decisions in demanding \n",
      "scenarios . I attribute my work experience for working as a power apps developer with bp (UK) and Flight Centre (\n",
      "AU) for working as an administrator handling admin , governance & support activities .\n",
      "Employment\n",
      "Jul 2022 - Present Assistant Systems Engineer\n",
      "Tata Consultancy Services Limited , Chennai\n",
      "Skills\n",
      "Power Apps , Power Automate , Power BI, PP CoE toolkit , SharePoint Online , ADO Board , ServiceNow\n",
      "Project Experience\n",
      "Developed & implemented requirements using Power Apps .\n",
      "Leveraged Microsoft Dataverse for managing data & managed flows using Power Automate .\n",
      "Performed admin activities using admin centre & provided governance & support with the help of CoE toolkit .\n",
      "Certifications\n",
      "Mar 2022 AZ-900: Microsoft Azure Fundamentals\n",
      "Oct 2022 PL-900: Microsoft Power Platform Fundamentals\n",
      "Apr 2023 PL-400: Power Platform Developer Associate Certification\n"
     ]
    }
   ],
   "source": [
    "reader = PdfReader(input(\"Enter PDF File pathe\"))\n",
    "num_pages = len(reader.pages)\n",
    "\n",
    "for page_num in range(num_pages):\n",
    "    page = reader.pages[page_num]\n",
    "    text = page.extract_text()\n",
    "    print(text)"
   ]
  },
  {
   "cell_type": "markdown",
   "id": "404fb908-5d81-4f18-810a-326b2aba1ab8",
   "metadata": {},
   "source": [
    "#### 01. Code for reading Text File"
   ]
  },
  {
   "cell_type": "code",
   "execution_count": 2,
   "id": "147881e8-5997-490d-bc3e-82b882f82ddb",
   "metadata": {},
   "outputs": [
    {
     "name": "stdin",
     "output_type": "stream",
     "text": [
      "Enter/Paste file(.txt) path:  C:\\Users\\Akileshwaran\\Desktop\\ResumeAK.txt\n"
     ]
    },
    {
     "name": "stdout",
     "output_type": "stream",
     "text": [
      "Akileshwaran Srinivasan\n",
      "\n",
      "Date of Birth: 22-05-2001\n",
      "Email ID: ak01waran@gmail.com\n",
      "Mobile: 7550237225\n",
      "GitHub: https://github.com/ak2205\n",
      "LinkedIn: https://www.linkedin.com/in/akileshwaran-s/\n",
      "\n",
      "Profile:\n",
      "\n",
      "An individual with a focus on self improvement and enhancing business and technical acumen. I emphasize on teamwork and to instil clarity of thought. I rely on enabling constant communication and feedback. I attribute my technical experience in roles, within the Microsoft Power Platform. I have experience in client facing roles, maintaining periodic interaction and support. Looking forward to opportunities providing holistic growth.\n",
      "\n",
      "Work Experience:\n",
      "\n",
      "\tI owe almost two years of experience in IT industry with Tata Consultancy Services.\n",
      "\t\n",
      "\tAcquired training on Microsoft Power Platform fundamentals and certification in PL900, I worked as a Power Apps Developer.\n",
      "\t\n",
      "\tSucceeding that, worked as a Power Platform Admin, overlooking admin responsibilities and support activities, leveraging the CoE toolkit.\n",
      "\t\n",
      "\tMeanwhile, as a value addition to TCS, I imparted my knowhows on aforementioned tools to a fellow peer, helping to upskill in a monthâ€™s time.\n",
      "\t\n",
      "\tRecently, I worked as a Power Automate Developer in an intra tool migration by contributing towards the development of bots and flows to generate reports, around the \tpast 3 months. \n",
      "\n",
      "Skills:\n",
      "\n",
      "Technical:\n",
      "\t\n",
      "\tMicrosoft Power Platform (Power Apps, Dataverse, Power Automate, Admin & CoE).\n",
      "\tBasic understanding of Azure ADO Board, SharePoint & ServiceNow.\n",
      "\n",
      "Auxiliary: \n",
      "\t\n",
      "\tCommunication, Presentation, Teamwork & Leadership.\n",
      "\n",
      "Certifications:\n",
      "\t\n",
      "\tAZ900: Microsoft Azure Fundamentals.\n",
      "\tPL900: Microsoft Power Platform Fundamentals.\n",
      "\tPL400: Power Platform Developer Associate.\n",
      "\n",
      "Projects:\n",
      "\n",
      "Power Apps Development for an internal resource management app:\n",
      "\t\n",
      "\tWorked as a Power Apps developer, for a leading Oil & Gas agency in the UK, in development activities towards building a cross-platform, intra-company resource \tmanagement application.\n",
      "\t\n",
      "\tStories and tasks were handled out for respective sprints and were diligently performed, leveraging Azure ADO Board.\n",
      "\t\n",
      "\tPower Apps Studio was used for developing the core and Microsoft Dataverse was used for all data related operations.\n",
      "\t\n",
      "\tPower Automate cloud flows were developed for maintaining triggers to perform automated actions during candidateâ€™s processing stages.\n",
      "\t\n",
      "\tI also participated and contributed to manual testing and occasional admin activities for providing overall stability to the application.\n",
      "\n",
      "Org. wide admin, governance and support services :\n",
      "\t\n",
      "\tWorked as a Power Platform Administrator for a leading travel agency in Australia and provided support via governance activities, leveraging the Power Platform Centre \tof Excellence (CoE toolkit).\n",
      "\t\n",
      "\tAs an admin, I overlooked organization wide activities in Power Platform resources, ranging from development, testing, archival etc., utilizing the Admin Center. \n",
      "\t\n",
      "\tI also analysed major cloud flows and categorized them in an easily identifiable templates for the stakeholder to readily use one of those templates according to their \trequirements.\n",
      "\t\n",
      "\tAs part of governance, I utilized the CoE dashboard (hosted on Power BI), to monitor and analyse all resource-related specifications and activities. \n",
      "\t\n",
      "\tAs a part of support, based on the aforementioned, I periodically exported data and derived insights, thereby composing reports that recommend certain fixes to the \tidentified shortcomings and scope of improvements.\n",
      "\t\n",
      "\tUtilized ServiceNow to handle relevant tickets of callers, and promptly responded to them.\n",
      "\t\n",
      "\tAforementioned efforts mostly involved myself in periodical, direct interactions with the customer stakeholders, giving me a new horizon to expand my soft skills and \trelevant acumen.\n",
      "\n",
      "Power Automate Developer for migration of processes from Blue Prism:\n",
      "\t\n",
      "\tI had the opportunity to work as a Power Automate Developer, for a leading conglomerate in cooperative services in the UK, and developed bots for certain process \tinvolving an intra-migration of automation tools (Blue Prism to Power Automate). \n",
      "\t\n",
      "\tI utilized Blue Prism to analyse the existing bots, deriving key insights in their overall design structures and understanding the process behind numerous work queues \tthat power these bot flows.\n",
      "\t\n",
      "\tContributed to the development of desktop flows, leveraging the Power Automate Desktop (PAD) and subsequently developed work queues, in Power Automate Web.\t\n",
      "\tDeveloped instant cloud flows using Power Automate to generate performance reports for a number of such bots.\n",
      "\t\n",
      "\tContributed to the team integrity and efficiency by assisting peers with technical aspects and raising tickets and in setting up virtual workspaces. Provided \tcontributions in handful of other tool and goal-related analysis and composed relevant documentation, backing such metrics.\n"
     ]
    }
   ],
   "source": [
    "try:\n",
    "    file = input(\"Enter/Paste file(.txt) path: \")\n",
    "    f = open(file)\n",
    "    g = f.read()\n",
    "    print(g)\n",
    "except:\n",
    "    print(\"Paste the path properly\")"
   ]
  },
  {
   "cell_type": "markdown",
   "id": "dfa4812c-7232-4142-b9d7-d33bdd97d6e1",
   "metadata": {},
   "source": [
    "#### 2. Check whether file is empty or not "
   ]
  },
  {
   "cell_type": "code",
   "execution_count": 3,
   "id": "ec916a70-8624-4a93-8232-b29fa050aed3",
   "metadata": {},
   "outputs": [
    {
     "name": "stdout",
     "output_type": "stream",
     "text": [
      "File is not empty and contains 4919 bytes\n"
     ]
    }
   ],
   "source": [
    "if os.stat(file).st_size == 0:\n",
    "    print(\"File is Empty\")\n",
    "else:\n",
    "    print(f\"File is not empty and contains {os.stat(file).st_size} bytes\")"
   ]
  },
  {
   "cell_type": "markdown",
   "id": "f681a50b-1ca6-4d6f-ad2d-a6877027adb2",
   "metadata": {},
   "source": [
    "#### 3. Extract below details from resume mobile number, email address, GitHub/LinkedIn id, all numbers in resume, date of birth"
   ]
  },
  {
   "cell_type": "code",
   "execution_count": 4,
   "id": "48116496-32f4-44a3-99b6-1efedfb00e2d",
   "metadata": {},
   "outputs": [
    {
     "name": "stdout",
     "output_type": "stream",
     "text": [
      "Mobile number is: 7550237225\n",
      "DOB is: 22-05-2001\n",
      "Email ID is: ak01waran@gmail.com\n",
      "GitHub URL is: https://github.com/ak2205\n",
      "Linkedin URL is: https://www.linkedin.com/in/akileshwaran\n"
     ]
    }
   ],
   "source": [
    "patternMob = r\"\\d{10}\"\n",
    "patternDOB = r\"(\\d{2})-(\\d{2})-(\\d{4})\"\n",
    "#patternEmail = r\"[\\w]+@[\\w\\.]+\"\n",
    "patternEmail = r\"\\S+@\\S+\"\n",
    "patternGitHub = r\"(http(s?):\\/\\/)?(www\\.)?github\\.([a-z])+\\/([A-Za-z0-9]{1,})+\\/?\"\n",
    "patternLinkedin = r\"(http(s?)://)?(www\\.)?linkedin\\.([a-z])+/(in/)([A-Za-z0-9]+)+/?\"\n",
    "\n",
    "valMob = re.search(patternMob, g)\n",
    "valDOB = re.search(patternDOB, g)\n",
    "valEmail = re.search(patternEmail, g)\n",
    "valGitHub = re.search(patternGitHub, g)\n",
    "valLinkedin = re.search(patternLinkedin, g)\n",
    "\n",
    "Mob = valMob.group()\n",
    "DOB = valDOB.group()\n",
    "Email = valEmail.group()\n",
    "Linkedin = valLinkedin.group()\n",
    "GitHub = valGitHub.group()\n",
    "\n",
    "print(f\"Mobile number is: {Mob}\")\n",
    "print(f\"DOB is: {DOB}\")\n",
    "print(f\"Email ID is: {Email}\")\n",
    "print(f\"GitHub URL is: {GitHub}\")\n",
    "print(f\"Linkedin URL is: {Linkedin}\")"
   ]
  },
  {
   "cell_type": "markdown",
   "id": "08c2dfe6-a6af-4097-a9e1-bfc4b709cded",
   "metadata": {},
   "source": [
    "#### 4. Using extracted date of birth, calculate age of the person "
   ]
  },
  {
   "cell_type": "code",
   "execution_count": 5,
   "id": "bf7fa8fd-1d58-4955-b436-28baa8595152",
   "metadata": {},
   "outputs": [
    {
     "name": "stdout",
     "output_type": "stream",
     "text": [
      "At present, the candidate is 23 years old.\n"
     ]
    }
   ],
   "source": [
    "def calculate_age(DOB):\n",
    "    birth_date = datetime.strptime(DOB, \"%d-%m-%Y\")\n",
    "    today = datetime.today()\n",
    "    age = today.year - birth_date.year - ((today.month, today.day) < (birth_date.month, birth_date.day))\n",
    "    return age\n",
    "    \n",
    "age = calculate_age(DOB)\n",
    "print(f\"At present, the candidate is {age} years old.\")"
   ]
  },
  {
   "cell_type": "markdown",
   "id": "7ee0d813-d511-42ca-9177-cb76d32db94b",
   "metadata": {},
   "source": [
    "#### 5. Send extracted details as mail to your mail id (study SMTP and email module). "
   ]
  },
  {
   "cell_type": "code",
   "execution_count": 6,
   "id": "2202a5f2-cc2e-48c3-87aa-2dc70f417864",
   "metadata": {},
   "outputs": [
    {
     "name": "stdin",
     "output_type": "stream",
     "text": [
      "Enter sender email:  ak01waran@outlook.com\n",
      "Enter receiver email:  kannanparthipan@gmail.com\n",
      "Enter your password:  ········\n"
     ]
    },
    {
     "name": "stdout",
     "output_type": "stream",
     "text": [
      "Password entered successfully!\n",
      "Email sent successfully!\n"
     ]
    }
   ],
   "source": [
    "#Email Credentials\n",
    "sender_email = input(\"Enter sender email: \")\n",
    "receiver_email = input(\"Enter receiver email: \")\n",
    "#password = input(\"Enter your mail password: \")\n",
    "password = getpass.getpass(\"Enter your password: \")\n",
    "print(\"Password entered successfully!\")\n",
    "\n",
    "#Email content\n",
    "message = MIMEMultipart()\n",
    "message[\"From\"] = sender_email\n",
    "message[\"To\"] = receiver_email\n",
    "message[\"Subject\"] = \"Test Email from Python\"\n",
    "\n",
    "#Email body\n",
    "\n",
    "body = f\"\\nThis is a test email containing \\n\\t Mobile Number: {Mob}, \\n\\t Date of Birth: {DOB}, \\n\\t Candidate's Email ID: {Email}, \\n\\t Linkedin Profile: {Linkedin} and \\n\\t GitHub Profile: {GitHub}\"\n",
    "message.attach(MIMEText(body, \"plain\"))\n",
    "\n",
    "#Server Connection and email sending\n",
    "try:\n",
    "    server = smtplib.SMTP(\"smtp.office365.com\", 587)\n",
    "    server.starttls()\n",
    "    server.login(sender_email, password)\n",
    "    server.sendmail(sender_email, receiver_email, message.as_string())\n",
    "    print(\"Email sent successfully!\")\n",
    "except Exception as e:\n",
    "    print(f\"Error: {e}\")\n",
    "finally:\n",
    "    server.quit()"
   ]
  }
 ],
 "metadata": {
  "kernelspec": {
   "display_name": "Python 3 (ipykernel)",
   "language": "python",
   "name": "python3"
  },
  "language_info": {
   "codemirror_mode": {
    "name": "ipython",
    "version": 3
   },
   "file_extension": ".py",
   "mimetype": "text/x-python",
   "name": "python",
   "nbconvert_exporter": "python",
   "pygments_lexer": "ipython3",
   "version": "3.12.4"
  }
 },
 "nbformat": 4,
 "nbformat_minor": 5
}
