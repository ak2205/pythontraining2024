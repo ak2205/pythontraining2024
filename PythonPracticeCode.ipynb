{
  "nbformat": 4,
  "nbformat_minor": 0,
  "metadata": {
    "colab": {
      "provenance": [],
      "toc_visible": true,
      "authorship_tag": "ABX9TyP3CZiozZYG9XOWCPFrXNuH",
      "include_colab_link": true
    },
    "kernelspec": {
      "name": "python3",
      "display_name": "Python 3"
    },
    "language_info": {
      "name": "python"
    }
  },
  "cells": [
    {
      "cell_type": "markdown",
      "metadata": {
        "id": "view-in-github",
        "colab_type": "text"
      },
      "source": [
        "<a href=\"https://colab.research.google.com/github/ak2205/pythontraining2024/blob/main/PythonPracticeCode.ipynb\" target=\"_parent\"><img src=\"https://colab.research.google.com/assets/colab-badge.svg\" alt=\"Open In Colab\"/></a>"
      ]
    },
    {
      "cell_type": "markdown",
      "source": [
        "Basic integer operation"
      ],
      "metadata": {
        "id": "4W9ZSODRv_6u"
      }
    },
    {
      "cell_type": "code",
      "execution_count": null,
      "metadata": {
        "colab": {
          "base_uri": "https://localhost:8080/"
        },
        "id": "Rw5R7oBBvltL",
        "outputId": "bcbe6e43-e205-4cdd-e878-55854c837588"
      },
      "outputs": [
        {
          "output_type": "execute_result",
          "data": {
            "text/plain": [
              "25"
            ]
          },
          "metadata": {},
          "execution_count": 5
        }
      ],
      "source": [
        "10 + 15"
      ]
    },
    {
      "cell_type": "markdown",
      "source": [
        "Variable is a container to store variables. For linear or single use purposes/direct & simple executions, you may not need a variable. But for anything that requires some sort of dependency, it is a given to use variables."
      ],
      "metadata": {
        "id": "yV8Dg_IAwHxK"
      }
    },
    {
      "cell_type": "code",
      "source": [
        "a = \"brandon is not a good boy\"\n",
        "a = a + \"\\n\"+\"achilles heel\"\n",
        "print(a)\n",
        "print(len(a)) #string concatenation with more than one line"
      ],
      "metadata": {
        "colab": {
          "base_uri": "https://localhost:8080/"
        },
        "id": "l9vQf837ZP2i",
        "outputId": "3c6ab333-4203-4be2-9f55-566675675bd3"
      },
      "execution_count": 5,
      "outputs": [
        {
          "output_type": "stream",
          "name": "stdout",
          "text": [
            "brandon is not a good boy\n",
            "achilles heel\n",
            "39\n"
          ]
        }
      ]
    },
    {
      "cell_type": "code",
      "source": [
        "a = 7\n",
        "b = 10\n",
        "\n",
        "c = a + b #addition operation\n",
        "d = a - b #subtraction operation\n",
        "e = a * b #multiplication operation\n",
        "f = a / b #division operation\n",
        "g = a % b #modulus operator\n",
        "h = a // b #floor division\n",
        "i = a ** b #power operand\n",
        "\n",
        "print(c, d, e, f, g, h, i, sep=\"*\", end=\"\\n\")"
      ],
      "metadata": {
        "colab": {
          "base_uri": "https://localhost:8080/"
        },
        "id": "ldlBrqulwf8C",
        "outputId": "abb9c84a-6f1a-4aa4-c091-165c2ee606cc"
      },
      "execution_count": 9,
      "outputs": [
        {
          "output_type": "stream",
          "name": "stdout",
          "text": [
            "17*-3*70*0.7*7*0*282475249\n",
            "\t"
          ]
        }
      ]
    },
    {
      "cell_type": "markdown",
      "source": [
        "The above example is a case where I am just trying to print all values aided by a separator and in new lines, all at once. It returns an output that I am not familiar. I need explaination."
      ],
      "metadata": {
        "id": "hAZS8jS_yDbr"
      }
    },
    {
      "cell_type": "code",
      "source": [
        "#floor division practicing\n",
        "print(-10//-3)\n",
        "print(-4//9)\n",
        "print(6//10)\n",
        "print(20//-10)\n",
        "print(40//6)"
      ],
      "metadata": {
        "colab": {
          "base_uri": "https://localhost:8080/"
        },
        "id": "W98DIPC0dX5i",
        "outputId": "84f1945f-96cb-4a06-f59f-c97fe44de910"
      },
      "execution_count": null,
      "outputs": [
        {
          "output_type": "stream",
          "name": "stdout",
          "text": [
            "3\n",
            "-1\n",
            "0\n",
            "-2\n",
            "6\n"
          ]
        }
      ]
    },
    {
      "cell_type": "markdown",
      "source": [
        "Below contains same codebase, except here I'm performing and printing operations one-by-one."
      ],
      "metadata": {
        "id": "eeE33IvlyxLh"
      }
    },
    {
      "cell_type": "code",
      "source": [
        "a = 60\n",
        "b = 7\n",
        "\n",
        "c = a + b #addition operation\n",
        "print (c)\n",
        "d = a - b #subtraction operation\n",
        "print(d)\n",
        "e = a * b #multiplication operation\n",
        "print(e)\n",
        "f = a / b #division operation\n",
        "print(f)\n",
        "g = a % b #modulus operator\n",
        "print(g)\n",
        "h = a // b #floor division\n",
        "print(h)\n",
        "i = a ** b #power operand\n",
        "print(i)"
      ],
      "metadata": {
        "colab": {
          "base_uri": "https://localhost:8080/"
        },
        "id": "oVC1yWyUyWQ9",
        "outputId": "bd1daba3-9e46-448f-89e2-181543571369"
      },
      "execution_count": null,
      "outputs": [
        {
          "output_type": "stream",
          "name": "stdout",
          "text": [
            "67\n",
            "53\n",
            "420\n",
            "8.571428571428571\n",
            "4\n",
            "8\n",
            "2799360000000\n"
          ]
        }
      ]
    },
    {
      "cell_type": "markdown",
      "source": [
        "same codebase as above, now attempting to print it as list"
      ],
      "metadata": {
        "id": "uRzG8SURzNMz"
      }
    },
    {
      "cell_type": "code",
      "source": [
        "a = 45\n",
        "b = 8\n",
        "\"\"\" all kinds of operators\n",
        "being put on show \"\"\"\n",
        "c = a + b #addition operation\n",
        "d = a - b #subtraction operation\n",
        "e = a * b #multiplication operation\n",
        "f = a / b #division operation\n",
        "g = a % b #modulus operator\n",
        "h = a // b #floor division\n",
        "i = a ** b #power operand\n",
        "\n",
        "sampllist = [c, d, e, f, g, h, i]\n",
        "print(sampllist)"
      ],
      "metadata": {
        "colab": {
          "base_uri": "https://localhost:8080/"
        },
        "id": "88f3u3PdzcGh",
        "outputId": "cf214dd4-05aa-45c5-980a-b7d7c2caac1e"
      },
      "execution_count": null,
      "outputs": [
        {
          "output_type": "stream",
          "name": "stdout",
          "text": [
            "[53, 37, 360, 5.625, 5, 5, 16815125390625]\n"
          ]
        }
      ]
    },
    {
      "cell_type": "markdown",
      "source": [],
      "metadata": {
        "id": "X-uxsPow4RgR"
      }
    },
    {
      "cell_type": "markdown",
      "source": [
        "Now, we casually explore type() to witness how machine helps us in interpreting the data type"
      ],
      "metadata": {
        "id": "EGvfB52c1aRq"
      }
    },
    {
      "cell_type": "code",
      "source": [
        "a = 22.53\n",
        "b = 46\n",
        "c = \"leopard\"\n",
        "d = [\"apple\", 1234, 59.75, 4+6j, '@', False]\n",
        "e = True\n",
        "f = 7 + 4j\n",
        "\n",
        "typeListing = [type(a), type(b), type(c), type(d), type(e), type(f)]\n",
        "\n",
        "print(typeListing) #camelCase usage with type identification"
      ],
      "metadata": {
        "colab": {
          "base_uri": "https://localhost:8080/"
        },
        "id": "DrLZ4qJq1iRx",
        "outputId": "2f6ce97c-799e-4d07-9fad-1f222db90e94"
      },
      "execution_count": null,
      "outputs": [
        {
          "output_type": "stream",
          "name": "stdout",
          "text": [
            "[<class 'float'>, <class 'int'>, <class 'str'>, <class 'list'>, <class 'bool'>, <class 'complex'>]\n"
          ]
        }
      ]
    },
    {
      "cell_type": "code",
      "source": [
        "a = 'cactus'\n",
        "b = 'plants'\n",
        "\n",
        "print(a+' '+b, end=\"\\t\") #string concatenation with spacing"
      ],
      "metadata": {
        "colab": {
          "base_uri": "https://localhost:8080/"
        },
        "id": "k09xI16AYnls",
        "outputId": "9e0e993e-4305-44fc-b481-d21541c06c72"
      },
      "execution_count": 10,
      "outputs": [
        {
          "output_type": "stream",
          "name": "stdout",
          "text": [
            "cactus plants\t"
          ]
        }
      ]
    },
    {
      "cell_type": "code",
      "source": [
        "a=10\n",
        "A=20\n",
        "\n",
        "a = a + 10\n",
        "A = a + 5\n",
        "\n",
        "'''id() is a function used for unique identification value of object\n",
        "stored in the memory'''\n",
        "\n",
        "print(\"Identifier for variable a: \", id(a)) #printing desired output with a prefixed string\n",
        "print(\"Identifier for variable A: \", id(A))"
      ],
      "metadata": {
        "colab": {
          "base_uri": "https://localhost:8080/"
        },
        "id": "ltRLM4i7YT_w",
        "outputId": "539d4596-3521-40c5-c4a0-4fe5220e3345"
      },
      "execution_count": null,
      "outputs": [
        {
          "output_type": "stream",
          "name": "stdout",
          "text": [
            "Identifier for variable a:  135449930351440\n",
            "Identifier for variable A:  135449930351600\n"
          ]
        }
      ]
    },
    {
      "cell_type": "markdown",
      "source": [
        "So far the concepts covered are: basic numerical operation, code creation and performing a range of arithmetic operations with two variables. Implementing best practices(taught so far) while writing code. Also using different data types in each of the practice codes."
      ],
      "metadata": {
        "id": "gWC8mz_143Vs"
      }
    },
    {
      "cell_type": "code",
      "source": [
        "#Assignment Operator is always \"=\"\n",
        "#Comparison operator ===> always give boolean output\n",
        "#< > <= >= != ==\n",
        "#boolean datatype output\n",
        "#samplen comparison operators\n",
        "\n",
        "a = int(input(\"Enter an integer of your choice: \"))\n",
        "b = str(input(\"Enter a string of your choice: \"))\n",
        "c = int(input(\"Enter an integer of your choice: \"))\n",
        "d = str(input(\"Enter a string of your choice: \"))\n",
        "\n",
        "print(a>c)\n",
        "print(a==c)\n",
        "print(a!=c)\n",
        "print(a<c)"
      ],
      "metadata": {
        "colab": {
          "base_uri": "https://localhost:8080/"
        },
        "id": "lAYd-osdd_83",
        "outputId": "940c4079-7214-48d5-f078-9bcfa9eeba5a"
      },
      "execution_count": null,
      "outputs": [
        {
          "output_type": "stream",
          "name": "stdout",
          "text": [
            "Enter an integer of your choice: 99\n",
            "Enter a string of your choice: Dartmouth\n",
            "Enter an integer of your choice: 98\n",
            "Enter a string of your choice: Brown\n",
            "True\n",
            "False\n",
            "True\n",
            "False\n"
          ]
        }
      ]
    },
    {
      "cell_type": "code",
      "source": [
        "#logical operators\n",
        "a = 245\n",
        "b = 244\n",
        "\n",
        "print (a>b and a!=b)\n",
        "print (a<b and a==b)\n",
        "print(a>b or a==b)\n",
        "print(a<b or a==b)\n",
        "\n",
        "c=\"Columbia\"\n",
        "d=\"UPenn\"\n",
        "\n",
        "#membership operators || for loop, checking substring\n",
        "\n",
        "print(\"z\" not in c)\n",
        "print(\"U\" in d)\n",
        "print(\"C\" in d)\n",
        "\n",
        "#ternary operators\n",
        "\n",
        "a =  25\n",
        "b = 30 if a < 20 else 20\n",
        "\n",
        "print(\"The value of a is\", a)\n",
        "print(\"The value of b is\", b)"
      ],
      "metadata": {
        "colab": {
          "base_uri": "https://localhost:8080/"
        },
        "id": "T4mYgOTRfqtz",
        "outputId": "1ab2d10f-b6c1-42ef-811f-a74f9b74f7e7"
      },
      "execution_count": null,
      "outputs": [
        {
          "output_type": "stream",
          "name": "stdout",
          "text": [
            "True\n",
            "False\n",
            "True\n",
            "False\n",
            "True\n",
            "True\n",
            "False\n",
            "The value of a is 25\n",
            "The value of b is 20\n"
          ]
        }
      ]
    },
    {
      "cell_type": "markdown",
      "source": [
        "Data Structures:\n",
        "\n",
        "So far we have already implemented the concept of list.\n",
        "Now we explore Set, tuple & dictionary"
      ],
      "metadata": {
        "id": "mQ02_zEFi8Iv"
      }
    },
    {
      "cell_type": "code",
      "source": [
        "a = {1,2,3,4,5,6}\n",
        "print(type(a))\n",
        "\n",
        "b=10\n",
        "c=(10,)\n",
        "\n",
        "print(type(b))\n",
        "print(type(c))"
      ],
      "metadata": {
        "id": "oQiayHfZjaJp",
        "colab": {
          "base_uri": "https://localhost:8080/"
        },
        "outputId": "cb2bce2e-08e5-4d17-8447-9f4c1e16a5cb"
      },
      "execution_count": 3,
      "outputs": [
        {
          "output_type": "stream",
          "name": "stdout",
          "text": [
            "<class 'set'>\n",
            "<class 'int'>\n",
            "<class 'tuple'>\n"
          ]
        }
      ]
    },
    {
      "cell_type": "markdown",
      "source": [
        "FUNCTIONS:"
      ],
      "metadata": {
        "id": "5jqT4zWxb1pI"
      }
    },
    {
      "cell_type": "code",
      "source": [
        "def sum_function(x,y):\n",
        "  return x + y\n",
        "\n",
        "print(sum_function(10,20))\n",
        "print(sum_function(15,24))\n",
        "print(sum_function(16,27))"
      ],
      "metadata": {
        "colab": {
          "base_uri": "https://localhost:8080/"
        },
        "id": "T2jGarSSb7LT",
        "outputId": "32136fc4-974a-44c7-aadb-450753386fc0"
      },
      "execution_count": 4,
      "outputs": [
        {
          "output_type": "stream",
          "name": "stdout",
          "text": [
            "30\n",
            "39\n",
            "43\n"
          ]
        }
      ]
    },
    {
      "cell_type": "code",
      "source": [
        "val1 = \"Damien\"\n",
        "val2 = \"Martyn\"\n",
        "val3 = \"Australia\"\n",
        "print(val1) #print(val1, end=\"\\n\")\n",
        "print(val2, end=\"\\t\")\n",
        "print(val3)\n",
        "print(\"hello\")"
      ],
      "metadata": {
        "colab": {
          "base_uri": "https://localhost:8080/"
        },
        "id": "Nxs8ELRvdzzG",
        "outputId": "9d711f21-bdd8-4b64-bc9d-056367b20998"
      },
      "execution_count": 12,
      "outputs": [
        {
          "output_type": "stream",
          "name": "stdout",
          "text": [
            "Damien\n",
            "Martyn\tAustralia\n",
            "hello\n"
          ]
        }
      ]
    },
    {
      "cell_type": "code",
      "source": [
        "val1 = \"Ricky\"\n",
        "val2 = \"Thomas\"\n",
        "val3 = \"Ponting\"\n",
        "\n",
        "print(val1, val2, val3, sep=\"\\t\")"
      ],
      "metadata": {
        "colab": {
          "base_uri": "https://localhost:8080/"
        },
        "id": "g0l5qMQjeAkR",
        "outputId": "7e085ad3-48dc-4428-8807-be4bc0e22fea"
      },
      "execution_count": 13,
      "outputs": [
        {
          "output_type": "stream",
          "name": "stdout",
          "text": [
            "Ricky\tThomas\tPonting\n"
          ]
        }
      ]
    },
    {
      "cell_type": "code",
      "source": [
        "print(10,20,30,sep=\"\\t\")\n",
        "print(14,23,32,sep=\"***\")\n",
        "\n",
        "#print function ==> end sep\n",
        "\n",
        "print(14, end=\" \")\n",
        "print(26, end = \"^^\")\n",
        "print(\"hello\",end=\"\\t\")\n",
        "print(130)\n",
        "print(45 + 7j,end = \"*\")\n",
        "\n",
        "print(10,20,30, sep=\"&&\")\n",
        "\n",
        "print(10)\n",
        "print(20)\n",
        "print(30,40,50,end=\"**\",sep=\"^^\")\n",
        "print(60,70,end=\"80\",sep=\"$$\")\n",
        "print(90)"
      ],
      "metadata": {
        "colab": {
          "base_uri": "https://localhost:8080/"
        },
        "id": "9YqeE72aeMdV",
        "outputId": "492d72ab-b64d-4f14-a9d7-37a667c14f3d"
      },
      "execution_count": 15,
      "outputs": [
        {
          "output_type": "stream",
          "name": "stdout",
          "text": [
            "10\t20\t30\n",
            "14***23***32\n",
            "14 26^^hello\t130\n",
            "(45+7j)*10&&20&&30\n",
            "10\n",
            "20\n",
            "30^^40^^50**60$$708090\n"
          ]
        }
      ]
    }
  ]
}