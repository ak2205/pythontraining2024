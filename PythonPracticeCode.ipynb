{
  "nbformat": 4,
  "nbformat_minor": 0,
  "metadata": {
    "colab": {
      "provenance": [],
      "toc_visible": true,
      "authorship_tag": "ABX9TyNOts2sfPWKwIqG+PsvT154",
      "include_colab_link": true
    },
    "kernelspec": {
      "name": "python3",
      "display_name": "Python 3"
    },
    "language_info": {
      "name": "python"
    }
  },
  "cells": [
    {
      "cell_type": "markdown",
      "metadata": {
        "id": "view-in-github",
        "colab_type": "text"
      },
      "source": [
        "<a href=\"https://colab.research.google.com/github/ak2205/pythontraining2024/blob/main/PythonPracticeCode.ipynb\" target=\"_parent\"><img src=\"https://colab.research.google.com/assets/colab-badge.svg\" alt=\"Open In Colab\"/></a>"
      ]
    },
    {
      "cell_type": "markdown",
      "source": [
        "Basic integer operation"
      ],
      "metadata": {
        "id": "4W9ZSODRv_6u"
      }
    },
    {
      "cell_type": "code",
      "execution_count": null,
      "metadata": {
        "colab": {
          "base_uri": "https://localhost:8080/"
        },
        "id": "Rw5R7oBBvltL",
        "outputId": "bcbe6e43-e205-4cdd-e878-55854c837588"
      },
      "outputs": [
        {
          "output_type": "execute_result",
          "data": {
            "text/plain": [
              "25"
            ]
          },
          "metadata": {},
          "execution_count": 5
        }
      ],
      "source": [
        "10 + 15"
      ]
    },
    {
      "cell_type": "markdown",
      "source": [
        "Variable is a container to store variables. For linear or single use purposes/direct & simple executions, you may not need a variable. But for anything that requires some sort of dependency, it is a given to use variables."
      ],
      "metadata": {
        "id": "yV8Dg_IAwHxK"
      }
    },
    {
      "cell_type": "code",
      "source": [
        "a = \"brandon is not a good boy\"\n",
        "a = a + \"\\n\"+\"achilles heel\"\n",
        "print(a)\n",
        "print(len(a)) #string concatenation with more than one line"
      ],
      "metadata": {
        "colab": {
          "base_uri": "https://localhost:8080/"
        },
        "id": "l9vQf837ZP2i",
        "outputId": "3c6ab333-4203-4be2-9f55-566675675bd3"
      },
      "execution_count": null,
      "outputs": [
        {
          "output_type": "stream",
          "name": "stdout",
          "text": [
            "brandon is not a good boy\n",
            "achilles heel\n",
            "39\n"
          ]
        }
      ]
    },
    {
      "cell_type": "code",
      "source": [
        "a = 7\n",
        "b = 10\n",
        "\n",
        "c = a + b #addition operation\n",
        "d = a - b #subtraction operation\n",
        "e = a * b #multiplication operation\n",
        "f = a / b #division operation\n",
        "g = a % b #modulus operator\n",
        "h = a // b #floor division || #Do normal division || #plot your value in scale || #identify small value\n",
        "i = a ** b #power operand\n",
        "\n",
        "print(c, d, e, f, g, h, i, sep=\"*\", end=\"\\n\")"
      ],
      "metadata": {
        "colab": {
          "base_uri": "https://localhost:8080/"
        },
        "id": "ldlBrqulwf8C",
        "outputId": "abb9c84a-6f1a-4aa4-c091-165c2ee606cc"
      },
      "execution_count": null,
      "outputs": [
        {
          "output_type": "stream",
          "name": "stdout",
          "text": [
            "17*-3*70*0.7*7*0*282475249\n",
            "\t"
          ]
        }
      ]
    },
    {
      "cell_type": "markdown",
      "source": [
        "The above example is a case where I am just trying to print all values aided by a separator and in new lines, all at once. It returns an output that I am not familiar. I need explaination."
      ],
      "metadata": {
        "id": "hAZS8jS_yDbr"
      }
    },
    {
      "cell_type": "code",
      "source": [
        "#floor division practicing\n",
        "print(-10//-3)\n",
        "print(-4//9)\n",
        "print(6//10)\n",
        "print(20//-10)\n",
        "print(40//6)"
      ],
      "metadata": {
        "colab": {
          "base_uri": "https://localhost:8080/"
        },
        "id": "W98DIPC0dX5i",
        "outputId": "84f1945f-96cb-4a06-f59f-c97fe44de910"
      },
      "execution_count": null,
      "outputs": [
        {
          "output_type": "stream",
          "name": "stdout",
          "text": [
            "3\n",
            "-1\n",
            "0\n",
            "-2\n",
            "6\n"
          ]
        }
      ]
    },
    {
      "cell_type": "markdown",
      "source": [
        "Below contains same codebase, except here I'm performing and printing operations one-by-one."
      ],
      "metadata": {
        "id": "eeE33IvlyxLh"
      }
    },
    {
      "cell_type": "code",
      "source": [
        "a = 60\n",
        "b = 7\n",
        "\n",
        "c = a + b #addition operation\n",
        "print (c)\n",
        "d = a - b #subtraction operation\n",
        "print(d)\n",
        "e = a * b #multiplication operation\n",
        "print(e)\n",
        "f = a / b #division operation\n",
        "print(f)\n",
        "g = a % b #modulus operator\n",
        "print(g)\n",
        "h = a // b #floor division\n",
        "print(h)\n",
        "i = a ** b #power operand\n",
        "print(i)"
      ],
      "metadata": {
        "colab": {
          "base_uri": "https://localhost:8080/"
        },
        "id": "oVC1yWyUyWQ9",
        "outputId": "bd1daba3-9e46-448f-89e2-181543571369"
      },
      "execution_count": null,
      "outputs": [
        {
          "output_type": "stream",
          "name": "stdout",
          "text": [
            "67\n",
            "53\n",
            "420\n",
            "8.571428571428571\n",
            "4\n",
            "8\n",
            "2799360000000\n"
          ]
        }
      ]
    },
    {
      "cell_type": "markdown",
      "source": [
        "same codebase as above, now attempting to print it as list"
      ],
      "metadata": {
        "id": "uRzG8SURzNMz"
      }
    },
    {
      "cell_type": "code",
      "source": [
        "a = 45\n",
        "b = 8\n",
        "\"\"\" all kinds of operators\n",
        "being put on show \"\"\"\n",
        "c = a + b #addition operation\n",
        "d = a - b #subtraction operation\n",
        "e = a * b #multiplication operation\n",
        "f = a / b #division operation\n",
        "g = a % b #modulus operator\n",
        "h = a // b #floor division\n",
        "i = a ** b #power operand\n",
        "\n",
        "sampllist = [c, d, e, f, g, h, i]\n",
        "print(sampllist)"
      ],
      "metadata": {
        "colab": {
          "base_uri": "https://localhost:8080/"
        },
        "id": "88f3u3PdzcGh",
        "outputId": "cf214dd4-05aa-45c5-980a-b7d7c2caac1e"
      },
      "execution_count": null,
      "outputs": [
        {
          "output_type": "stream",
          "name": "stdout",
          "text": [
            "[53, 37, 360, 5.625, 5, 5, 16815125390625]\n"
          ]
        }
      ]
    },
    {
      "cell_type": "markdown",
      "source": [],
      "metadata": {
        "id": "X-uxsPow4RgR"
      }
    },
    {
      "cell_type": "markdown",
      "source": [
        "Now, we casually explore type() to witness how machine helps us in interpreting the data type"
      ],
      "metadata": {
        "id": "EGvfB52c1aRq"
      }
    },
    {
      "cell_type": "code",
      "source": [
        "a = 22.53\n",
        "b = 46\n",
        "c = \"leopard\"\n",
        "d = [\"apple\", 1234, 59.75, 4+6j, '@', False]\n",
        "e = True\n",
        "f = 7 + 4j\n",
        "\n",
        "typeListing = [type(a), type(b), type(c), type(d), type(e), type(f)]\n",
        "\n",
        "print(typeListing) #camelCase usage with type identification"
      ],
      "metadata": {
        "colab": {
          "base_uri": "https://localhost:8080/"
        },
        "id": "DrLZ4qJq1iRx",
        "outputId": "2f6ce97c-799e-4d07-9fad-1f222db90e94"
      },
      "execution_count": null,
      "outputs": [
        {
          "output_type": "stream",
          "name": "stdout",
          "text": [
            "[<class 'float'>, <class 'int'>, <class 'str'>, <class 'list'>, <class 'bool'>, <class 'complex'>]\n"
          ]
        }
      ]
    },
    {
      "cell_type": "code",
      "source": [
        "a = 'cactus'\n",
        "b = 'plants'\n",
        "\n",
        "print(a+' '+b, end=\"\\t\") #string concatenation with spacing"
      ],
      "metadata": {
        "colab": {
          "base_uri": "https://localhost:8080/"
        },
        "id": "k09xI16AYnls",
        "outputId": "9e0e993e-4305-44fc-b481-d21541c06c72"
      },
      "execution_count": null,
      "outputs": [
        {
          "output_type": "stream",
          "name": "stdout",
          "text": [
            "cactus plants\t"
          ]
        }
      ]
    },
    {
      "cell_type": "code",
      "source": [
        "a=10\n",
        "A=20\n",
        "\n",
        "a = a + 10\n",
        "A = a + 5\n",
        "\n",
        "'''id() is a function used for unique identification value of object\n",
        "stored in the memory'''\n",
        "\n",
        "print(\"Identifier for variable a: \", id(a)) #printing desired output with a prefixed string\n",
        "print(\"Identifier for variable A: \", id(A))"
      ],
      "metadata": {
        "colab": {
          "base_uri": "https://localhost:8080/"
        },
        "id": "ltRLM4i7YT_w",
        "outputId": "539d4596-3521-40c5-c4a0-4fe5220e3345"
      },
      "execution_count": null,
      "outputs": [
        {
          "output_type": "stream",
          "name": "stdout",
          "text": [
            "Identifier for variable a:  135449930351440\n",
            "Identifier for variable A:  135449930351600\n"
          ]
        }
      ]
    },
    {
      "cell_type": "markdown",
      "source": [
        "So far the concepts covered are: basic numerical operation, code creation and performing a range of arithmetic operations with two variables. Implementing best practices(taught so far) while writing code. Also using different data types in each of the practice codes."
      ],
      "metadata": {
        "id": "gWC8mz_143Vs"
      }
    },
    {
      "cell_type": "code",
      "source": [
        "#Assignment Operator is always \"=\"\n",
        "#Comparison operator ===> always give boolean output\n",
        "#< > <= >= != ==\n",
        "#boolean datatype output\n",
        "#samplen comparison operators\n",
        "\n",
        "a = int(input(\"Enter an integer of your choice: \"))\n",
        "b = str(input(\"Enter a string of your choice: \"))\n",
        "c = int(input(\"Enter an integer of your choice: \"))\n",
        "d = str(input(\"Enter a string of your choice: \"))\n",
        "\n",
        "print(a>c)\n",
        "print(a==c)\n",
        "print(a!=c)\n",
        "print(a<c)"
      ],
      "metadata": {
        "colab": {
          "base_uri": "https://localhost:8080/"
        },
        "id": "lAYd-osdd_83",
        "outputId": "940c4079-7214-48d5-f078-9bcfa9eeba5a"
      },
      "execution_count": null,
      "outputs": [
        {
          "output_type": "stream",
          "name": "stdout",
          "text": [
            "Enter an integer of your choice: 99\n",
            "Enter a string of your choice: Dartmouth\n",
            "Enter an integer of your choice: 98\n",
            "Enter a string of your choice: Brown\n",
            "True\n",
            "False\n",
            "True\n",
            "False\n"
          ]
        }
      ]
    },
    {
      "cell_type": "code",
      "source": [
        "#logical operators\n",
        "a = 245\n",
        "b = 244\n",
        "\n",
        "print (a>b and a!=b)\n",
        "print (a<b and a==b)\n",
        "print(a>b or a==b)\n",
        "print(a<b or a==b)\n",
        "\n",
        "c=\"Columbia\"\n",
        "d=\"UPenn\"\n",
        "\n",
        "#membership operators || for loop, checking substring\n",
        "\n",
        "print(\"z\" not in c)\n",
        "print(\"U\" in d)\n",
        "print(\"C\" in d)\n",
        "\n",
        "#ternary operators\n",
        "\n",
        "a =  25\n",
        "b = 30 if a < 20 else 20\n",
        "\n",
        "print(\"The value of a is\", a)\n",
        "print(\"The value of b is\", b)"
      ],
      "metadata": {
        "colab": {
          "base_uri": "https://localhost:8080/"
        },
        "id": "T4mYgOTRfqtz",
        "outputId": "1ab2d10f-b6c1-42ef-811f-a74f9b74f7e7"
      },
      "execution_count": null,
      "outputs": [
        {
          "output_type": "stream",
          "name": "stdout",
          "text": [
            "True\n",
            "False\n",
            "True\n",
            "False\n",
            "True\n",
            "True\n",
            "False\n",
            "The value of a is 25\n",
            "The value of b is 20\n"
          ]
        }
      ]
    },
    {
      "cell_type": "markdown",
      "source": [
        "Data Structures:\n",
        "\n",
        "So far we have already implemented the concept of list.\n",
        "Now we explore Set, tuple & dictionary"
      ],
      "metadata": {
        "id": "mQ02_zEFi8Iv"
      }
    },
    {
      "cell_type": "code",
      "source": [
        "a = {1,2,3,4,5,6}\n",
        "print(type(a))\n",
        "\n",
        "b=10\n",
        "c=(10,)\n",
        "\n",
        "print(type(b))\n",
        "print(type(c))"
      ],
      "metadata": {
        "id": "oQiayHfZjaJp",
        "colab": {
          "base_uri": "https://localhost:8080/"
        },
        "outputId": "cb2bce2e-08e5-4d17-8447-9f4c1e16a5cb"
      },
      "execution_count": null,
      "outputs": [
        {
          "output_type": "stream",
          "name": "stdout",
          "text": [
            "<class 'set'>\n",
            "<class 'int'>\n",
            "<class 'tuple'>\n"
          ]
        }
      ]
    },
    {
      "cell_type": "markdown",
      "source": [
        "FUNCTIONS:"
      ],
      "metadata": {
        "id": "5jqT4zWxb1pI"
      }
    },
    {
      "cell_type": "code",
      "source": [
        "def sum_function(x,y):\n",
        "  return x + y\n",
        "\n",
        "print(sum_function(10,20))\n",
        "print(sum_function(15,24))\n",
        "print(sum_function(16,27))"
      ],
      "metadata": {
        "colab": {
          "base_uri": "https://localhost:8080/"
        },
        "id": "T2jGarSSb7LT",
        "outputId": "32136fc4-974a-44c7-aadb-450753386fc0"
      },
      "execution_count": null,
      "outputs": [
        {
          "output_type": "stream",
          "name": "stdout",
          "text": [
            "30\n",
            "39\n",
            "43\n"
          ]
        }
      ]
    },
    {
      "cell_type": "code",
      "source": [
        "val1 = \"Damien\"\n",
        "val2 = \"Martyn\"\n",
        "val3 = \"Australia\"\n",
        "print(val1) #print(val1, end=\"\\n\")\n",
        "print(val2, end=\"\\t\")\n",
        "print(val3)\n",
        "print(\"hello\")"
      ],
      "metadata": {
        "colab": {
          "base_uri": "https://localhost:8080/"
        },
        "id": "Nxs8ELRvdzzG",
        "outputId": "9d711f21-bdd8-4b64-bc9d-056367b20998"
      },
      "execution_count": null,
      "outputs": [
        {
          "output_type": "stream",
          "name": "stdout",
          "text": [
            "Damien\n",
            "Martyn\tAustralia\n",
            "hello\n"
          ]
        }
      ]
    },
    {
      "cell_type": "code",
      "source": [
        "val1 = \"Ricky\"\n",
        "val2 = \"14\"\n",
        "val3 = \"Ponting\"\n",
        "\n",
        "print(val1, val2, val3, sep=\"\\t\")"
      ],
      "metadata": {
        "colab": {
          "base_uri": "https://localhost:8080/"
        },
        "id": "g0l5qMQjeAkR",
        "outputId": "46a47535-204d-47a6-94d1-11a253159971"
      },
      "execution_count": null,
      "outputs": [
        {
          "output_type": "stream",
          "name": "stdout",
          "text": [
            "Ricky\t14\tPonting\n"
          ]
        }
      ]
    },
    {
      "cell_type": "code",
      "source": [
        "print(10,20,30,sep=\"\\t\")\n",
        "print(14,23,32,sep=\"***\")\n",
        "\n",
        "#print function ==> end sep"
      ],
      "metadata": {
        "colab": {
          "base_uri": "https://localhost:8080/"
        },
        "id": "9YqeE72aeMdV",
        "outputId": "02dedfcf-fb58-4bba-cb45-9d7116701247"
      },
      "execution_count": null,
      "outputs": [
        {
          "output_type": "stream",
          "name": "stdout",
          "text": [
            "10\t20\t30\n",
            "14***23***32\n",
            "(45+7j)*10&&20&&30\n",
            "10\n",
            "20\n",
            "30^^40^^50**60$$708090\n"
          ]
        }
      ]
    },
    {
      "cell_type": "code",
      "source": [
        "print(14, end=\" \")\n",
        "print(26, end = \"^^\")\n",
        "print(\"hello\",end=\"\\t\")\n",
        "print(130)"
      ],
      "metadata": {
        "id": "fmw_hfDVS3gq",
        "colab": {
          "base_uri": "https://localhost:8080/"
        },
        "outputId": "906ccc8f-907a-4537-c80c-0da84313dff5"
      },
      "execution_count": null,
      "outputs": [
        {
          "output_type": "stream",
          "name": "stdout",
          "text": [
            "14 26^^hello\t130\n"
          ]
        }
      ]
    },
    {
      "cell_type": "code",
      "source": [
        "print(45 + 7j,end = \"*\")"
      ],
      "metadata": {
        "colab": {
          "base_uri": "https://localhost:8080/"
        },
        "id": "kxn5G1d3OvQ8",
        "outputId": "ab0b6a37-3615-4216-fd69-8e8bf3fd88f5"
      },
      "execution_count": null,
      "outputs": [
        {
          "output_type": "stream",
          "name": "stdout",
          "text": [
            "(45+7j)*"
          ]
        }
      ]
    },
    {
      "cell_type": "code",
      "source": [
        "print(35 + 9j,end = \"*\")\n",
        "print(10,20,30, sep=\"&&\")"
      ],
      "metadata": {
        "colab": {
          "base_uri": "https://localhost:8080/"
        },
        "id": "JUHKK-pEO2DS",
        "outputId": "9ea655d5-5121-4b00-b420-8f8009a1fac3"
      },
      "execution_count": null,
      "outputs": [
        {
          "output_type": "stream",
          "name": "stdout",
          "text": [
            "(35+9j)*10&&20&&30\n"
          ]
        }
      ]
    },
    {
      "cell_type": "code",
      "source": [
        "print(35 + 9j, end = \"*\", sep =\"^^\")\n",
        "print(10,20,30, sep=\"&&\")\n",
        "\n",
        "#having doubt in how this works"
      ],
      "metadata": {
        "colab": {
          "base_uri": "https://localhost:8080/"
        },
        "id": "khCznd6oO92w",
        "outputId": "029591e7-e658-48cf-e233-0bb6dfaed21b"
      },
      "execution_count": null,
      "outputs": [
        {
          "output_type": "stream",
          "name": "stdout",
          "text": [
            "(35+9j)*10&&20&&30\n"
          ]
        }
      ]
    },
    {
      "cell_type": "code",
      "source": [
        "print(10)\n",
        "print(20)"
      ],
      "metadata": {
        "colab": {
          "base_uri": "https://localhost:8080/"
        },
        "id": "tqxt8MD6P0I-",
        "outputId": "15bea557-5491-4935-b8d3-4cbadcb8bcc8"
      },
      "execution_count": null,
      "outputs": [
        {
          "output_type": "stream",
          "name": "stdout",
          "text": [
            "10\n",
            "20\n"
          ]
        }
      ]
    },
    {
      "cell_type": "code",
      "source": [
        "print(30,40,50,end=\"**\",sep=\"^^\")\n",
        "print(60,70,end=\"80\",sep=\"$$\")\n",
        "print(90)"
      ],
      "metadata": {
        "colab": {
          "base_uri": "https://localhost:8080/"
        },
        "id": "9TY_YZrpP8UR",
        "outputId": "631859c6-3551-4dca-a6b6-3d040e458437"
      },
      "execution_count": null,
      "outputs": [
        {
          "output_type": "stream",
          "name": "stdout",
          "text": [
            "30^^40^^50**60$$708090\n"
          ]
        }
      ]
    },
    {
      "cell_type": "markdown",
      "source": [
        "So far we saw the implementation of separators as well as end argument of print() function."
      ],
      "metadata": {
        "id": "JSZjAla_QCin"
      }
    },
    {
      "cell_type": "code",
      "source": [
        "a = input(\"please enter the amount: \")\n",
        "\n",
        "print(a)\n",
        "print(type(a))"
      ],
      "metadata": {
        "colab": {
          "base_uri": "https://localhost:8080/"
        },
        "id": "NPTgUFi3ROyw",
        "outputId": "68b6c4c8-99bf-4374-823c-715a97ed4278"
      },
      "execution_count": null,
      "outputs": [
        {
          "output_type": "stream",
          "name": "stdout",
          "text": [
            "please enter the amount: 34+6j\n",
            "34+6j\n",
            "<class 'str'>\n"
          ]
        }
      ]
    },
    {
      "cell_type": "code",
      "source": [
        "#Data type conversions\n",
        "#int ===>\n",
        "#int to float conversion\n",
        "\n",
        "a = 10\n",
        "\n",
        "b = float(a)\n",
        "\n",
        "print(a)\n",
        "print(type(a))\n",
        "print(b)\n",
        "print(type(b))\n",
        "\n",
        "#float to int ===>\n",
        "\n",
        "a = 10.99\n",
        "\n",
        "b = int(a)\n",
        "\n",
        "print(a)\n",
        "print(type(a))\n",
        "print(b)\n",
        "print(type(b))\n",
        "\n",
        "#float to str\n",
        "\n",
        "a = 10.99\n",
        "\n",
        "b = str(a)\n",
        "\n",
        "print(a)\n",
        "print(type(a))\n",
        "print(b)\n",
        "print(type(b))\n",
        "\n",
        "#bool to int===>\n",
        "\n",
        "c = True\n",
        "d = int(c)\n",
        "print(d)"
      ],
      "metadata": {
        "colab": {
          "base_uri": "https://localhost:8080/"
        },
        "id": "amRg0DaBSrd-",
        "outputId": "94449728-1e15-4709-cc5b-cfc2b6036477"
      },
      "execution_count": null,
      "outputs": [
        {
          "output_type": "stream",
          "name": "stdout",
          "text": [
            "10\n",
            "<class 'int'>\n",
            "10.0\n",
            "<class 'float'>\n",
            "10.99\n",
            "<class 'float'>\n",
            "10\n",
            "<class 'int'>\n",
            "10.99\n",
            "<class 'float'>\n",
            "10.99\n",
            "<class 'str'>\n",
            "1\n"
          ]
        }
      ]
    },
    {
      "cell_type": "markdown",
      "source": [
        "Error occurs below because String is a generic data type and it cannot be converted to any other data type."
      ],
      "metadata": {
        "id": "PYwyq5WgTF62"
      }
    },
    {
      "cell_type": "code",
      "source": [
        "#str ===>\n",
        "a = \"googlecolab\"\n",
        "b = int(a)\n",
        "print(a)\n",
        "print(type(a))\n",
        "print(b)\n",
        "print(type(b))\n",
        "#String ==> generic data type"
      ],
      "metadata": {
        "colab": {
          "base_uri": "https://localhost:8080/",
          "height": 211
        },
        "id": "pwWwET1VTpqr",
        "outputId": "3503e6c2-53e4-4c9a-a0e2-8a1a88aba1f4"
      },
      "execution_count": null,
      "outputs": [
        {
          "output_type": "error",
          "ename": "ValueError",
          "evalue": "invalid literal for int() with base 10: 'googlecolab'",
          "traceback": [
            "\u001b[0;31m---------------------------------------------------------------------------\u001b[0m",
            "\u001b[0;31mValueError\u001b[0m                                Traceback (most recent call last)",
            "\u001b[0;32m<ipython-input-21-2f1ea892bc72>\u001b[0m in \u001b[0;36m<cell line: 3>\u001b[0;34m()\u001b[0m\n\u001b[1;32m      1\u001b[0m \u001b[0;31m#str ===>\u001b[0m\u001b[0;34m\u001b[0m\u001b[0;34m\u001b[0m\u001b[0m\n\u001b[1;32m      2\u001b[0m \u001b[0ma\u001b[0m \u001b[0;34m=\u001b[0m \u001b[0;34m\"googlecolab\"\u001b[0m\u001b[0;34m\u001b[0m\u001b[0;34m\u001b[0m\u001b[0m\n\u001b[0;32m----> 3\u001b[0;31m \u001b[0mb\u001b[0m \u001b[0;34m=\u001b[0m \u001b[0mint\u001b[0m\u001b[0;34m(\u001b[0m\u001b[0ma\u001b[0m\u001b[0;34m)\u001b[0m\u001b[0;34m\u001b[0m\u001b[0;34m\u001b[0m\u001b[0m\n\u001b[0m\u001b[1;32m      4\u001b[0m \u001b[0mprint\u001b[0m\u001b[0;34m(\u001b[0m\u001b[0ma\u001b[0m\u001b[0;34m)\u001b[0m\u001b[0;34m\u001b[0m\u001b[0;34m\u001b[0m\u001b[0m\n\u001b[1;32m      5\u001b[0m \u001b[0mprint\u001b[0m\u001b[0;34m(\u001b[0m\u001b[0mtype\u001b[0m\u001b[0;34m(\u001b[0m\u001b[0ma\u001b[0m\u001b[0;34m)\u001b[0m\u001b[0;34m)\u001b[0m\u001b[0;34m\u001b[0m\u001b[0;34m\u001b[0m\u001b[0m\n",
            "\u001b[0;31mValueError\u001b[0m: invalid literal for int() with base 10: 'googlecolab'"
          ]
        }
      ]
    },
    {
      "cell_type": "markdown",
      "source": [
        "Importing a prebuilt math module to perfom ceil division"
      ],
      "metadata": {
        "id": "QZ59fAiD1mmO"
      }
    },
    {
      "cell_type": "code",
      "source": [
        "import math\n",
        "\n",
        "print(math.ceil(14/5)) #ceil div\n",
        "\n",
        "print(14 // 5) #floor div\n",
        "\n",
        "print(math.ceil(206/10)) #ceil div\n",
        "\n",
        "print(206 // 10) #floor div"
      ],
      "metadata": {
        "colab": {
          "base_uri": "https://localhost:8080/"
        },
        "id": "glW9e1SoVJ1z",
        "outputId": "cce20ee6-7d92-4c8c-868c-d835846605d3"
      },
      "execution_count": null,
      "outputs": [
        {
          "output_type": "stream",
          "name": "stdout",
          "text": [
            "3\n",
            "2\n",
            "21\n",
            "20\n"
          ]
        }
      ]
    },
    {
      "cell_type": "code",
      "source": [
        "a = input(\"please enter the amoutn: \")\n",
        "\n",
        "print(a)\n",
        "print(type(a))"
      ],
      "metadata": {
        "colab": {
          "base_uri": "https://localhost:8080/"
        },
        "id": "UxBHKfwzZDG9",
        "outputId": "94558ed9-ef0c-45a1-e941-9b50c131c072"
      },
      "execution_count": null,
      "outputs": [
        {
          "output_type": "stream",
          "name": "stdout",
          "text": [
            "please enter the amoutn: 65+7j\n",
            "65+7j\n",
            "<class 'str'>\n"
          ]
        }
      ]
    },
    {
      "cell_type": "markdown",
      "source": [
        "Why does a complex number print as string? Need more clarity"
      ],
      "metadata": {
        "id": "Me_QbTZRZIJ5"
      }
    },
    {
      "cell_type": "markdown",
      "source": [
        "Now we will see calculation of area for a particular shape"
      ],
      "metadata": {
        "id": "Hv5qEEdTbupq"
      }
    },
    {
      "cell_type": "code",
      "source": [
        "#Program1\n",
        "\n",
        "#area of rectangle l * b\n",
        "#perimeter of rectange 2l + 2b\n",
        "\n",
        "#length = 15\n",
        "#breadth = collect it from user as floating number\n",
        "\n",
        "#calculate area and perimeter\n",
        "\n",
        "#print the output (integer)\n",
        "\n",
        "leng = 15\n",
        "bre = float(input(\"please enter breadth of th rectangle: \"))\n",
        "Area = leng * bre\n",
        "print(\"The Area of rectange is\", Area)\n",
        "\n",
        "print(\"The Area of rectange with lenght {} and breadth {} is {}\".format(leng, bre, Area)) #format is a method in string to replace {} with variables\n",
        "\n",
        "perimeter = 2 * leng + 2 * bre\n",
        "print(\"The Perimeter of rectange with lenght {} and breadth {} is {}\".format(leng, bre, perimeter))"
      ],
      "metadata": {
        "colab": {
          "base_uri": "https://localhost:8080/"
        },
        "id": "wMQiJaEMbmQG",
        "outputId": "73807a17-f691-424d-b6f2-fb9b3463969f"
      },
      "execution_count": null,
      "outputs": [
        {
          "output_type": "stream",
          "name": "stdout",
          "text": [
            "please enter breadth of th rectangle: 12\n",
            "The Area of rectange is 180.0\n",
            "The Area of rectange with lenght 15 and breadth 12.0 is 180.0\n",
            "The Perimeter of rectange with lenght 15 and breadth 12.0 is 54.0\n"
          ]
        }
      ]
    },
    {
      "cell_type": "code",
      "source": [
        "length = 20\n",
        "\n",
        "breadth = float(input(\"please enter breadth (float value): \"))\n",
        "\n",
        "Area = length * breadth\n",
        "perimeter = 2 * (length + breadth)\n",
        "\n",
        "print(Area)\n",
        "print(perimeter)\n",
        "\n",
        "#formatted output\n",
        "print(\"the Area of rectangle is \",int(Area))\n",
        "print(\"the perimeter of rectangle is \",int(perimeter))\n",
        "\n",
        "print(f\"the Area of rectangle is {int(Area)}\")\n",
        "print(f\"the perimeter of rectangle is {int(perimeter)}\")\n",
        "\n",
        "#format\n",
        "print(\"the Area of rectangle with length {} and breadth {} is {} \".format(length, breadth,int(Area)))\n",
        "print(f\"the Area of rectangle with length {length} and breadth {breadth} is {int(Area)}\")\n",
        "\n",
        "print(\"the perimeter of rectangle with length {} and breadth {} is {} \".format(length, breadth,int(Area)))"
      ],
      "metadata": {
        "colab": {
          "base_uri": "https://localhost:8080/"
        },
        "id": "eptkW7dB0Bky",
        "outputId": "b033e419-71d4-40f3-e266-6808dc71252a"
      },
      "execution_count": null,
      "outputs": [
        {
          "output_type": "stream",
          "name": "stdout",
          "text": [
            "please enter breadth (float value): 25\n",
            "500.0\n",
            "90.0\n",
            "the Area of rectangle is  500\n",
            "the perimeter of rectangle is  90\n",
            "the Area of rectangle is 500\n",
            "the perimeter of rectangle is 90\n",
            "the Area of rectangle with length 20 and breadth 25.0 is 500 \n",
            "the Area of rectangle with length 20 and breadth 25.0 is 500\n",
            "the perimeter of rectangle with length 20 and breadth 25.0 is 500 \n"
          ]
        }
      ]
    }
  ]
}