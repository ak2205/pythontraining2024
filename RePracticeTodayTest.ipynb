{
  "nbformat": 4,
  "nbformat_minor": 0,
  "metadata": {
    "colab": {
      "provenance": [],
      "authorship_tag": "ABX9TyMmSJgTxDEnPm2aorrRp5by",
      "include_colab_link": true
    },
    "kernelspec": {
      "name": "python3",
      "display_name": "Python 3"
    },
    "language_info": {
      "name": "python"
    }
  },
  "cells": [
    {
      "cell_type": "markdown",
      "metadata": {
        "id": "view-in-github",
        "colab_type": "text"
      },
      "source": [
        "<a href=\"https://colab.research.google.com/github/ak2205/pythontraining2024/blob/main/RePracticeTodayTest.ipynb\" target=\"_parent\"><img src=\"https://colab.research.google.com/assets/colab-badge.svg\" alt=\"Open In Colab\"/></a>"
      ]
    },
    {
      "cell_type": "markdown",
      "source": [
        "**Question1: List**\n",
        "\n",
        "Create two lists\n",
        "\n",
        "[2,3,4,5,11,0]\n",
        "\n",
        "[11,2,3,45,22,1]\n",
        "\n",
        "Count number of common elements between them\n",
        "\n"
      ],
      "metadata": {
        "id": "EnMx3e_M-M8m"
      }
    },
    {
      "cell_type": "code",
      "source": [
        "alist = [2,3,4,5,11,0]\n",
        "blist = [11,2,3,45,22,1]\n",
        "c = set(alist).intersection(blist)\n",
        "print(c, \"count of common elements is\", len(c))"
      ],
      "metadata": {
        "colab": {
          "base_uri": "https://localhost:8080/"
        },
        "id": "ZSRFXQAM--ne",
        "outputId": "aff0515e-b4c7-4d60-b080-d017000088bb"
      },
      "execution_count": null,
      "outputs": [
        {
          "output_type": "stream",
          "name": "stdout",
          "text": [
            "{3, 2, 11} count of common elements is 3\n"
          ]
        }
      ]
    },
    {
      "cell_type": "markdown",
      "source": [
        "**Question2:**\n",
        "\n",
        "Write a program to explain difference between soft copy and deep copy ?\n",
        "\n"
      ],
      "metadata": {
        "id": "7EkEMzRs_wkM"
      }
    },
    {
      "cell_type": "code",
      "source": [
        "#soft copy\n",
        "\n",
        "aa_list = [11,2,33,\"Marcus\",45]\n",
        "print(f\"Given list is {aa_list} and memory location is {id(aa_list)}\")\n",
        "ab_list = aa_list\n",
        "print(f\"Newer list after shallow copy is {ab_list} and memory location is {id(ab_list)}\")\n",
        "aa_list[4] = \"Stoinis\"\n",
        "print(f\"Change reflected in newer list? {ab_list} and memory location is {id(ab_list)}\")"
      ],
      "metadata": {
        "colab": {
          "base_uri": "https://localhost:8080/"
        },
        "id": "whMy-Cbz_zcS",
        "outputId": "29fe0aa8-ad67-4dd3-cc02-89a78ed0bb26"
      },
      "execution_count": null,
      "outputs": [
        {
          "output_type": "stream",
          "name": "stdout",
          "text": [
            "Given list is [11, 2, 33, 'Marcus', 45] and memory location is 137280713197504\n",
            "Newer list after shallow copy is [11, 2, 33, 'Marcus', 45] and memory location is 137280713197504\n",
            "Change reflected in newer list? [11, 2, 33, 'Marcus', 'Stoinis'] and memory location is 137280713197504\n"
          ]
        }
      ]
    },
    {
      "cell_type": "code",
      "source": [
        "#deep copy #modifications only visible in original list and not in latest list unlike shallow copy\n",
        "\n",
        "ac_list = [\"Jumbo\", \"Rodney\", \"Ghillian\", \"Damien\"]\n",
        "print(f\"\\nGiven list is {ac_list} and memory is {id(ac_list)}\")\n",
        "ad_list = ac_list.copy()\n",
        "print(f\"Newer list post deep copy is {ad_list} and memory is {id(ad_list)}\")\n",
        "ac_list[2] = \"Marsh\"\n",
        "print(f\"Change reflected?: {ad_list} and memory is {id(ad_list)}\")"
      ],
      "metadata": {
        "colab": {
          "base_uri": "https://localhost:8080/"
        },
        "id": "3Nh2l6NKCPuU",
        "outputId": "cd70af51-a61c-44a1-bf81-94907c8da47f"
      },
      "execution_count": null,
      "outputs": [
        {
          "output_type": "stream",
          "name": "stdout",
          "text": [
            "\n",
            "Given list is ['Jumbo', 'Rodney', 'Ghillian', 'Damien'] and memory is 137280714928256\n",
            "Newer list post deep copy is ['Jumbo', 'Rodney', 'Ghillian', 'Damien'] and memory is 137281080668736\n",
            "Change reflected?: ['Jumbo', 'Rodney', 'Ghillian', 'Damien'] and memory is 137281080668736\n"
          ]
        }
      ]
    },
    {
      "cell_type": "markdown",
      "source": [
        "**Question 3:**\n",
        "\n",
        "Create dictionary with below key value pairs\n",
        "{1:\"mon\", 2:\"Sat\",3:\"wed\",4:\"sun\",0:\"tues\"}\n",
        "\n",
        "Replace: sun with moon\n",
        "update the dict with key value pair 7:\"saturn\""
      ],
      "metadata": {
        "id": "8dTehe4qDJla"
      }
    },
    {
      "cell_type": "code",
      "source": [
        "a_dict = {\"1\":\"mon\", \"2\": \"Sat\", \"3\": \"wed\", \"4\": \"sun\", \"0\": \"tues\"}\n",
        "a_dict[\"4\"] = \"moon\"\n",
        "a_dict[7] = \"saturn\"\n",
        "print(f\"modified dict is {a_dict}\")"
      ],
      "metadata": {
        "colab": {
          "base_uri": "https://localhost:8080/"
        },
        "id": "Tc574D-NDcMT",
        "outputId": "bbd7b3d2-9118-44e1-e3cb-5de14a6abae7"
      },
      "execution_count": null,
      "outputs": [
        {
          "output_type": "stream",
          "name": "stdout",
          "text": [
            "modified dict is {'1': 'mon', '2': 'Sat', '3': 'wed', '4': 'moon', '0': 'tues', 7: 'saturn'}\n"
          ]
        }
      ]
    },
    {
      "cell_type": "markdown",
      "source": [
        "**Question 4:**\n",
        "\n",
        "Convert below two lists in to a dictionary:\n",
        "\n",
        "[6,7,8,9,10]\n",
        "\n",
        "[3,4,5,6,1]\n",
        "\n"
      ],
      "metadata": {
        "id": "qldTSEdSHCpv"
      }
    },
    {
      "cell_type": "code",
      "source": [
        "a_list = [6,7,8,9,10]\n",
        "b_list = [3,4,5,6,1]\n",
        "print(dict(zip(a_list,b_list)))"
      ],
      "metadata": {
        "colab": {
          "base_uri": "https://localhost:8080/"
        },
        "id": "GtduHkVYHWJe",
        "outputId": "d343b3de-a52b-4b86-9f87-9f59e2f09438"
      },
      "execution_count": null,
      "outputs": [
        {
          "output_type": "stream",
          "name": "stdout",
          "text": [
            "{6: 3, 7: 4, 8: 5, 9: 6, 10: 1}\n"
          ]
        }
      ]
    },
    {
      "cell_type": "markdown",
      "source": [
        "**Question 5:**\n",
        "\n",
        "Remove duplicate elements from below tuple (5,6,7,8,1,10,1,1,2,2,11)"
      ],
      "metadata": {
        "id": "914paoyVHkWu"
      }
    },
    {
      "cell_type": "code",
      "source": [
        "a_tuple = (5,6,7,8,1,10,1,1,2,2,11)\n",
        "print(set(a_tuple))"
      ],
      "metadata": {
        "colab": {
          "base_uri": "https://localhost:8080/"
        },
        "id": "_53KruGhHryt",
        "outputId": "d3404829-5bd0-4f4e-8ee5-c2befaa0c826"
      },
      "execution_count": null,
      "outputs": [
        {
          "output_type": "stream",
          "name": "stdout",
          "text": [
            "{1, 2, 5, 6, 7, 8, 10, 11}\n"
          ]
        }
      ]
    },
    {
      "cell_type": "markdown",
      "source": [
        "**Question 6**\n",
        "\n",
        "Identify non common elements between two tuples\n",
        "\n",
        "(1,2,3,4,5,6)\n",
        "\n",
        "(5,6,7,8,9,10)\n"
      ],
      "metadata": {
        "id": "jHKi8z3OH0I7"
      }
    },
    {
      "cell_type": "code",
      "source": [
        "aa_tuple = (1,2,3,4,5,6)\n",
        "ab_tuple = (5,6,7,8,9,10)\n",
        "print(set(aa_tuple).symmetric_difference(ab_tuple))"
      ],
      "metadata": {
        "colab": {
          "base_uri": "https://localhost:8080/"
        },
        "id": "IO1q_An1H_NG",
        "outputId": "ca47d573-2deb-4d96-e13d-3e6a08c4986b"
      },
      "execution_count": null,
      "outputs": [
        {
          "output_type": "stream",
          "name": "stdout",
          "text": [
            "{1, 2, 3, 4, 7, 8, 9, 10}\n"
          ]
        }
      ]
    },
    {
      "cell_type": "markdown",
      "source": [
        "**Question 7:**\n",
        "\n",
        "Extract \"sun\" from below dictionary\n",
        "\n",
        "Extract all values from the dictionary\n",
        "\n",
        "Identify number of unique values in the dictionary\n",
        "\n",
        "Extract number of unique keys from the below dictionary\n",
        "\n",
        "{1:\"monday\", 2:\"Satday\",3:\"wedday\",4:\"sunday\",0:\"tuesday\", 5:\"monday\",6:\"wedday\"}\n",
        "\n"
      ],
      "metadata": {
        "id": "bkknV_ZAIaXV"
      }
    },
    {
      "cell_type": "code",
      "source": [
        "aa_dict = {1:\"monday\", 2:\"Satday\",3:\"wedday\",4:\"sunday\",0:\"tuesday\", 5:\"monday\",6:\"wedday\"}\n",
        "print(aa_dict[4][:3]) #extract sun\n",
        "print(aa_dict.values()) #all values\n",
        "print(len(set(aa_dict.values()))) #count of unique values\n",
        "print(len(set(aa_dict.keys()))) #count of unique keys"
      ],
      "metadata": {
        "colab": {
          "base_uri": "https://localhost:8080/"
        },
        "id": "svjZ9tQKIhWX",
        "outputId": "9f9b51d6-0aa6-4c2a-82b4-25c88a0d26e6"
      },
      "execution_count": null,
      "outputs": [
        {
          "output_type": "stream",
          "name": "stdout",
          "text": [
            "sun\n",
            "dict_values(['monday', 'Satday', 'wedday', 'sunday', 'tuesday', 'monday', 'wedday'])\n",
            "5\n",
            "7\n"
          ]
        }
      ]
    },
    {
      "cell_type": "markdown",
      "source": [
        "**Question 8:**\n",
        "\n",
        "Extract \"yadirf\" from the below list:\n",
        "\n",
        "[\"monday\",\"sunday\",\"wednesday\",\"thursday\",\"friday\"]"
      ],
      "metadata": {
        "id": "o8dquAtbKxjg"
      }
    },
    {
      "cell_type": "code",
      "source": [
        "af_list = [\"monday\", \"sunday\", \"wednesday\", \"thursday\", \"friday\"]\n",
        "print(af_list[-1][::-1])"
      ],
      "metadata": {
        "colab": {
          "base_uri": "https://localhost:8080/"
        },
        "id": "3_y1Upm1K5ky",
        "outputId": "30a4c6ca-4398-43bd-9629-8732e93bcf1d"
      },
      "execution_count": null,
      "outputs": [
        {
          "output_type": "stream",
          "name": "stdout",
          "text": [
            "yadirf\n"
          ]
        }
      ]
    },
    {
      "cell_type": "markdown",
      "source": [
        "**Question 9:**\n",
        "\n",
        "Convert below dictionary values into a set:\n",
        "\n",
        "{1:\"monday\", 2:\"Satday\",3:\"wedday\",4:\"sunday\",0:\"tuesday\", 5:\"monday\",6:\"wedday\"}\n"
      ],
      "metadata": {
        "id": "ItcAbMc_LMNp"
      }
    },
    {
      "cell_type": "code",
      "source": [
        "aaa_dict = {1:\"monday\", 2:\"Satday\",3:\"wedday\",4:\"sunday\",0:\"tuesday\", 5:\"monday\",6:\"wedday\"}\n",
        "print(set(aaa_dict.values()))"
      ],
      "metadata": {
        "colab": {
          "base_uri": "https://localhost:8080/"
        },
        "id": "gY4r-eClLSHv",
        "outputId": "86166cf9-8195-49f9-dbfd-7d8b6994780a"
      },
      "execution_count": null,
      "outputs": [
        {
          "output_type": "stream",
          "name": "stdout",
          "text": [
            "{'tuesday', 'sunday', 'monday', 'Satday', 'wedday'}\n"
          ]
        }
      ]
    },
    {
      "cell_type": "markdown",
      "source": [
        "**Question 10:**\n",
        "\n",
        "Concatenate keys and values of below dictionary in to a list and identify its length\n",
        "\n",
        "{1:\"mon\", 2:\"Sat\",3:\"wed\",4:\"sun\",0:\"tues\"}"
      ],
      "metadata": {
        "id": "3c7PtMWELeLf"
      }
    },
    {
      "cell_type": "code",
      "source": [
        "aab_dict = {1:\"mon\", 2:\"Sat\",3:\"wed\",4:\"sun\",0:\"tues\"}\n",
        "xc = list(aab_dict.keys())\n",
        "xd = list(aab_dict.values())\n",
        "xf = xc + xd\n",
        "print(len(xf))"
      ],
      "metadata": {
        "colab": {
          "base_uri": "https://localhost:8080/"
        },
        "id": "ridGmAhMLpoA",
        "outputId": "648869b5-8827-4b00-c7a1-4d9446342762"
      },
      "execution_count": null,
      "outputs": [
        {
          "output_type": "stream",
          "name": "stdout",
          "text": [
            "10\n"
          ]
        }
      ]
    },
    {
      "cell_type": "markdown",
      "source": [
        "One liner code"
      ],
      "metadata": {
        "id": "M5oBmDR9NkK-"
      }
    },
    {
      "cell_type": "code",
      "source": [
        "aab_dict = {1:\"mon\", 2:\"Sat\",3:\"wed\",4:\"sun\",0:\"tues\"}\n",
        "print(f\"Length of keys & values of above dict is {len(list(list(aab_dict.keys())+list(aab_dict.values())))}\")"
      ],
      "metadata": {
        "colab": {
          "base_uri": "https://localhost:8080/"
        },
        "id": "XipRy6B_MtTk",
        "outputId": "1f0bdb78-cbc8-42ed-8ea0-758c80ecca2c"
      },
      "execution_count": null,
      "outputs": [
        {
          "output_type": "stream",
          "name": "stdout",
          "text": [
            "Length of keys & values of above dict is 10\n"
          ]
        }
      ]
    }
  ]
}