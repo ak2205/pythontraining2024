{
  "nbformat": 4,
  "nbformat_minor": 0,
  "metadata": {
    "colab": {
      "provenance": [],
      "authorship_tag": "ABX9TyOr49nsYIUd0lpDW3ZQtVMT",
      "include_colab_link": true
    },
    "kernelspec": {
      "name": "python3",
      "display_name": "Python 3"
    },
    "language_info": {
      "name": "python"
    }
  },
  "cells": [
    {
      "cell_type": "markdown",
      "metadata": {
        "id": "view-in-github",
        "colab_type": "text"
      },
      "source": [
        "<a href=\"https://colab.research.google.com/github/ak2205/pythontraining2024/blob/main/ConditionalStatementsPrograms.ipynb\" target=\"_parent\"><img src=\"https://colab.research.google.com/assets/colab-badge.svg\" alt=\"Open In Colab\"/></a>"
      ]
    },
    {
      "cell_type": "markdown",
      "source": [
        "Program to check whether the number is zero, positive or negative"
      ],
      "metadata": {
        "id": "uBrV5IyZSqfr"
      }
    },
    {
      "cell_type": "code",
      "source": [
        "a = int(input(\"Enter a number\"))\n",
        "if a>0:\n",
        "  print(\"Number is positive\")\n",
        "elif a<0:\n",
        "  print(\"Number is negative\")\n",
        "else:\n",
        "  print(\"Number is zero\")"
      ],
      "metadata": {
        "colab": {
          "base_uri": "https://localhost:8080/"
        },
        "id": "Nd-fekI8SxUq",
        "outputId": "d85b630a-64ca-4f8c-d05b-4f805e3a6e31"
      },
      "execution_count": null,
      "outputs": [
        {
          "output_type": "stream",
          "name": "stdout",
          "text": [
            "Enter a number0\n",
            "Number is zero\n"
          ]
        }
      ]
    },
    {
      "cell_type": "markdown",
      "source": [
        " Print \"Summer\", if the temperature in the city is greater than 32 degrees C or the humidity index, is more than 10."
      ],
      "metadata": {
        "id": "jb3GYKtvT3mW"
      }
    },
    {
      "cell_type": "code",
      "source": [
        "ab = float(input(\"Enter city temp: \"))\n",
        "ac = int(input(\"Enter humidity index: \"))\n",
        "if ab>32 and ac>10:\n",
        "  print(\"Summer\")\n",
        "elif ab<=32 and ac<=10:\n",
        "  print(\"Normal Weather with normal hummidity\")\n",
        "elif ab<=32 and ac>10:\n",
        "  print(\"Unpleasant weather\")\n",
        "else:\n",
        "  pass"
      ],
      "metadata": {
        "colab": {
          "base_uri": "https://localhost:8080/"
        },
        "id": "eUOG1dPnT9Ye",
        "outputId": "32c19b05-9188-49d5-eb87-638da7962fe2"
      },
      "execution_count": null,
      "outputs": [
        {
          "output_type": "stream",
          "name": "stdout",
          "text": [
            "Enter city temp: 12\n",
            "Enter humidity index: 11\n",
            "Unpleasant weather\n"
          ]
        }
      ]
    },
    {
      "cell_type": "markdown",
      "source": [
        "Create a program that takes a user's age as input and determines if they are eligible to vote (18 or older).\n"
      ],
      "metadata": {
        "id": "dbcy8NZnVC-C"
      }
    },
    {
      "cell_type": "code",
      "source": [
        "ab = int(input(\"Enter your age: \"))\n",
        "if ab<18:\n",
        "  print(\"Not Eligible to vote\")\n",
        "elif ab>=18:\n",
        "  print(\"Eligible to vote\")\n",
        "else:\n",
        "  pass"
      ],
      "metadata": {
        "colab": {
          "base_uri": "https://localhost:8080/"
        },
        "id": "0aAhHiYuVHsH",
        "outputId": "965ef29d-6a34-41e4-fb29-26a028627ad3"
      },
      "execution_count": null,
      "outputs": [
        {
          "output_type": "stream",
          "name": "stdout",
          "text": [
            "Enter your age: 14\n",
            "Not Eligible to vote\n"
          ]
        }
      ]
    },
    {
      "cell_type": "markdown",
      "source": [
        "Create a program that calculates the discount on a purchase based on the total amount. If the total is greater than $100, apply a 10% discount; otherwise, apply a 5% discount.\n",
        "\n"
      ],
      "metadata": {
        "id": "GfIb8nzmWr14"
      }
    },
    {
      "cell_type": "code",
      "source": [
        "ac = float(input(\"Enter total amount: \"))\n",
        "if ac>100:\n",
        "  print(\"10% discount eligible\")\n",
        "  print(f\"Total amount post discount is: {ac - (ac*0.10)}\")\n",
        "elif 0<=ac<=100:\n",
        "  print(\"5% discount eligible\")\n",
        "  print(f\"Total amount post discount is: {ac - (ac*0.05)}\")\n",
        "else:\n",
        "  print(\"Invalid value\")"
      ],
      "metadata": {
        "colab": {
          "base_uri": "https://localhost:8080/"
        },
        "id": "5Pf_g3DDWvXO",
        "outputId": "b722097c-4d07-47bf-86b4-40af76d1e44a"
      },
      "execution_count": null,
      "outputs": [
        {
          "output_type": "stream",
          "name": "stdout",
          "text": [
            "Enter total amount: 1198\n",
            "10% discount eligible\n",
            "Total amount post discount is: 1078.2\n"
          ]
        }
      ]
    },
    {
      "cell_type": "markdown",
      "source": [
        "Build a Python program that calculates the BMI (Body Mass Index) of a person based on their weight (in kg) and height (in meters) and provides a classification (Underweight, Normal, Overweight, or Obese)."
      ],
      "metadata": {
        "id": "3IrEkXY8YgSZ"
      }
    },
    {
      "cell_type": "code",
      "source": [
        "aad = float(input(\"Enter weight (in kg): \"))\n",
        "aae = float(input(\"Enter height (in meters): \"))\n",
        "BMI = aad/(aae*aae)\n",
        "if 0<=BMI<=18.4:\n",
        "  print(f\"Underweight & BMI is: {BMI}\")\n",
        "elif 18.5<=BMI<=24.9:\n",
        "  print(f\"Normal & BMI is: {BMI}\")\n",
        "elif 25<=BMI<=39.9:\n",
        "  print(f\"Overweight & BMI is: {BMI}\")\n",
        "elif BMI>=40:\n",
        "  print(f\"Obese & BMI is: {BMI}\")\n",
        "else:\n",
        "  print(f\"Not a valid BMI index {BMI}\")"
      ],
      "metadata": {
        "colab": {
          "base_uri": "https://localhost:8080/"
        },
        "id": "n-XrAHx6Yivd",
        "outputId": "ca0b0e62-117a-484b-fb1c-5b59d91d3d08"
      },
      "execution_count": null,
      "outputs": [
        {
          "output_type": "stream",
          "name": "stdout",
          "text": [
            "Enter weight (in kg): -1\n",
            "Enter height (in meters): -1\n",
            "Not a valid BMI index -1.0\n"
          ]
        }
      ]
    },
    {
      "cell_type": "markdown",
      "source": [
        "Write a Python function that finds the maximum of three numbers.\n"
      ],
      "metadata": {
        "id": "hr7BB-YfbbKk"
      }
    },
    {
      "cell_type": "code",
      "source": [
        "x = int(input(\"Enter a valid number: \"))\n",
        "y = int(input(\"Enter a valid number: \"))\n",
        "z = int(input(\"Enter a valid number: \"))\n",
        "if x>=y and x>=z:\n",
        "  print(f\"{x} is maximum\")\n",
        "elif y>=x and y>=z:\n",
        "  print(f\"{y} is maximum\")\n",
        "else:\n",
        "  print(f\"{z} is maximum\")"
      ],
      "metadata": {
        "colab": {
          "base_uri": "https://localhost:8080/"
        },
        "id": "hGdl0BmQbdwf",
        "outputId": "0bae1d05-89a0-4c09-e7ac-24641e6f02e2"
      },
      "execution_count": null,
      "outputs": [
        {
          "output_type": "stream",
          "name": "stdout",
          "text": [
            "Enter a valid number: 12\n",
            "Enter a valid number: 100\n",
            "Enter a valid number: -400\n",
            "100 is maximum\n"
          ]
        }
      ]
    },
    {
      "cell_type": "markdown",
      "source": [
        "Write a python program to find if bride and groom's age are legal to marry. (Hint: Bride: 18 and Groom: 21)"
      ],
      "metadata": {
        "id": "GeAloRsXdQff"
      }
    },
    {
      "cell_type": "code",
      "source": [
        "bride_age = int(input(\"Enter Bride's age: \"))\n",
        "groom_age = int(input(\"Enter Groom's age: \"))\n",
        "if bride_age>=18 and groom_age>=21:\n",
        "  print(f\"Both Bride {bride_age} and Groom {groom_age} are legal for marriage!\")\n",
        "else:\n",
        "  print(f\"Bride {bride_age} and Groom {groom_age} are not legalised for marriage\")"
      ],
      "metadata": {
        "colab": {
          "base_uri": "https://localhost:8080/"
        },
        "id": "m3YE-sngdRR2",
        "outputId": "b6e1bb8b-3d27-4ab7-aacb-f7f84aea8276"
      },
      "execution_count": null,
      "outputs": [
        {
          "output_type": "stream",
          "name": "stdout",
          "text": [
            "Enter Bride's age: 34\n",
            "Enter Groom's age: 17\n",
            "Bride 34 and Groom 17 are not legalised for marriage\n"
          ]
        }
      ]
    },
    {
      "cell_type": "markdown",
      "source": [
        "Write a python program to find if a person is eligible to get driving license.\n",
        "Inputs: 1. AGE (18+) 2.LLR (Yes)\n",
        "Based on above inputs, print \"Eligible or Not eligible\"  "
      ],
      "metadata": {
        "id": "WR1jyuZhd9vw"
      }
    },
    {
      "cell_type": "code",
      "source": [
        "age = int(input(\"Enter age of person: \"))\n",
        "if age>=18:\n",
        "  print(\"Valid age\")\n",
        "  LLR = bool(input(\"Enter if you have LLR? True or False: \"))\n",
        "  if LLR==\"True\":\n",
        "    print(\"LLR valid and eligible for license\")\n",
        "  elif LLR==\"False\":\n",
        "    print(\"No valid LLR\")\n",
        "  else:\n",
        "    pass\n",
        "else:\n",
        "  print(\"Not eligible to apply\")"
      ],
      "metadata": {
        "colab": {
          "base_uri": "https://localhost:8080/"
        },
        "id": "nuAq2kJXd_XF",
        "outputId": "c1e88821-0c82-4627-fb99-6beb23c1bde4"
      },
      "execution_count": null,
      "outputs": [
        {
          "output_type": "stream",
          "name": "stdout",
          "text": [
            "Enter age of person: 17\n",
            "Not eligible to apply\n"
          ]
        }
      ]
    },
    {
      "cell_type": "markdown",
      "source": [
        "Write a python program to check tax slab rate for each income levels. (Levels: above 10 lakh =tax 45%, 7-10 lakh = tax 35%, 5-7 lakh  = tax 30%, below 5 lakh = no tax.)\n"
      ],
      "metadata": {
        "id": "o08nsW_fkCkl"
      }
    },
    {
      "cell_type": "code",
      "source": [
        "Yearly_Salary = int(input(\"Enter your yearly salary: \"))\n",
        "if Yearly_Salary>1000000:\n",
        "  print(\"Tax slab for this income range is 45%\")\n",
        "elif 700000<=Yearly_Salary<=1000000:\n",
        "  print(\"Tax slab for this income range is 35%\")\n",
        "elif 500000<=Yearly_Salary<=700000:\n",
        "  print(\"Tax slab for this income range is 30%\")\n",
        "elif Yearly_Salary<500000:\n",
        "  print(\"No Tax Slab\")\n",
        "else:\n",
        "  pass"
      ],
      "metadata": {
        "colab": {
          "base_uri": "https://localhost:8080/"
        },
        "id": "C4x-iU43kHSG",
        "outputId": "07360b20-febb-48e6-fc93-37d99eb68a0b"
      },
      "execution_count": null,
      "outputs": [
        {
          "output_type": "stream",
          "name": "stdout",
          "text": [
            "Enter your yearly salary: 200000\n",
            "No Tax Slab\n"
          ]
        }
      ]
    }
  ]
}